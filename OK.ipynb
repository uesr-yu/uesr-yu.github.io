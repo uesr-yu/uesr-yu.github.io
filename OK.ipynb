{
  "cells": [
    {
      "cell_type": "markdown",
      "metadata": {
        "id": "view-in-github",
        "colab_type": "text"
      },
      "source": [
        "<a href=\"https://colab.research.google.com/github/uesr-yu/uesr-yu.github.io/blob/master/OK.ipynb\" target=\"_parent\"><img src=\"https://colab.research.google.com/assets/colab-badge.svg\" alt=\"Open In Colab\"/></a>"
      ]
    },
    {
      "cell_type": "code",
      "execution_count": 1,
      "metadata": {
        "id": "-NfO7ApLsWcg"
      },
      "outputs": [],
      "source": [
        "import numpy as np\n",
        "import pandas as pd\n",
        "from sklearn.preprocessing import MinMaxScaler\n",
        "from sklearn.metrics import mean_squared_error\n",
        "import torch\n",
        "import torch.nn as nn\n",
        "import torch.optim as optim\n",
        "from torch.optim.lr_scheduler import ReduceLROnPlateau\n",
        "import matplotlib.pyplot as plt\n",
        "plt.style.use(\"ggplot\")"
      ]
    },
    {
      "cell_type": "code",
      "source": [
        "!git clone https://github.com/alfa-echo-niner-ait/loadlstm.git\n"
      ],
      "metadata": {
        "colab": {
          "base_uri": "https://localhost:8080/"
        },
        "id": "Sp7SE0S3tUmo",
        "outputId": "5c6c3115-689b-44ce-d9c0-2fd4b662e71d"
      },
      "execution_count": 3,
      "outputs": [
        {
          "output_type": "stream",
          "name": "stdout",
          "text": [
            "Cloning into 'loadlstm'...\n",
            "remote: Enumerating objects: 90, done.\u001b[K\n",
            "remote: Counting objects: 100% (90/90), done.\u001b[K\n",
            "remote: Compressing objects: 100% (67/67), done.\u001b[K\n",
            "remote: Total 90 (delta 38), reused 73 (delta 21), pack-reused 0 (from 0)\u001b[K\n",
            "Receiving objects: 100% (90/90), 3.62 MiB | 35.60 MiB/s, done.\n",
            "Resolving deltas: 100% (38/38), done.\n"
          ]
        }
      ]
    },
    {
      "cell_type": "code",
      "source": [
        "%cd loadlstm\n"
      ],
      "metadata": {
        "colab": {
          "base_uri": "https://localhost:8080/"
        },
        "id": "Cu8sYBh0tbI9",
        "outputId": "b5f5a2ce-097d-4266-a303-36542b55bb4b"
      },
      "execution_count": 4,
      "outputs": [
        {
          "output_type": "stream",
          "name": "stdout",
          "text": [
            "/content/loadlstm\n"
          ]
        }
      ]
    },
    {
      "cell_type": "code",
      "source": [
        "!pip install -r requirements.txt\n"
      ],
      "metadata": {
        "colab": {
          "base_uri": "https://localhost:8080/"
        },
        "id": "KXsvTewEtdnk",
        "outputId": "545d444f-2aa8-470d-9149-d7fc4f958afe"
      },
      "execution_count": 5,
      "outputs": [
        {
          "output_type": "stream",
          "name": "stdout",
          "text": [
            "Collecting absl-py==2.1.0 (from -r requirements.txt (line 1))\n",
            "  Downloading absl_py-2.1.0-py3-none-any.whl.metadata (2.3 kB)\n",
            "Collecting asttokens==2.4.1 (from -r requirements.txt (line 2))\n",
            "  Downloading asttokens-2.4.1-py2.py3-none-any.whl.metadata (5.2 kB)\n",
            "Requirement already satisfied: astunparse==1.6.3 in /usr/local/lib/python3.11/dist-packages (from -r requirements.txt (line 3)) (1.6.3)\n",
            "Collecting attrs==24.2.0 (from -r requirements.txt (line 4))\n",
            "  Downloading attrs-24.2.0-py3-none-any.whl.metadata (11 kB)\n",
            "Collecting certifi==2024.7.4 (from -r requirements.txt (line 5))\n",
            "  Downloading certifi-2024.7.4-py3-none-any.whl.metadata (2.2 kB)\n",
            "Collecting charset-normalizer==3.3.2 (from -r requirements.txt (line 6))\n",
            "  Downloading charset_normalizer-3.3.2-cp311-cp311-manylinux_2_17_x86_64.manylinux2014_x86_64.whl.metadata (33 kB)\n",
            "Collecting colorama==0.4.6 (from -r requirements.txt (line 7))\n",
            "  Downloading colorama-0.4.6-py2.py3-none-any.whl.metadata (17 kB)\n",
            "Collecting comm==0.2.2 (from -r requirements.txt (line 8))\n",
            "  Downloading comm-0.2.2-py3-none-any.whl.metadata (3.7 kB)\n",
            "Collecting contourpy==1.2.1 (from -r requirements.txt (line 9))\n",
            "  Downloading contourpy-1.2.1-cp311-cp311-manylinux_2_17_x86_64.manylinux2014_x86_64.whl.metadata (5.8 kB)\n",
            "Requirement already satisfied: cycler==0.12.1 in /usr/local/lib/python3.11/dist-packages (from -r requirements.txt (line 10)) (0.12.1)\n",
            "Collecting debugpy==1.8.2 (from -r requirements.txt (line 11))\n",
            "  Downloading debugpy-1.8.2-cp311-cp311-manylinux_2_17_x86_64.manylinux2014_x86_64.whl.metadata (1.1 kB)\n",
            "Collecting decorator==5.1.1 (from -r requirements.txt (line 12))\n",
            "  Downloading decorator-5.1.1-py3-none-any.whl.metadata (4.0 kB)\n",
            "Collecting executing==2.0.1 (from -r requirements.txt (line 13))\n",
            "  Downloading executing-2.0.1-py2.py3-none-any.whl.metadata (9.0 kB)\n",
            "Collecting fastjsonschema==2.20.0 (from -r requirements.txt (line 14))\n",
            "  Downloading fastjsonschema-2.20.0-py3-none-any.whl.metadata (2.1 kB)\n",
            "Collecting filelock==3.16.1 (from -r requirements.txt (line 15))\n",
            "  Downloading filelock-3.16.1-py3-none-any.whl.metadata (2.9 kB)\n",
            "Collecting flatbuffers==24.3.25 (from -r requirements.txt (line 16))\n",
            "  Downloading flatbuffers-24.3.25-py2.py3-none-any.whl.metadata (850 bytes)\n",
            "Collecting fonttools==4.53.0 (from -r requirements.txt (line 17))\n",
            "  Downloading fonttools-4.53.0-cp311-cp311-manylinux_2_17_x86_64.manylinux2014_x86_64.whl.metadata (162 kB)\n",
            "\u001b[2K     \u001b[90m━━━━━━━━━━━━━━━━━━━━━━━━━━━━━━━━━━━━━━━━\u001b[0m \u001b[32m162.2/162.2 kB\u001b[0m \u001b[31m17.3 MB/s\u001b[0m eta \u001b[36m0:00:00\u001b[0m\n",
            "\u001b[?25hCollecting fsspec==2024.9.0 (from -r requirements.txt (line 18))\n",
            "  Downloading fsspec-2024.9.0-py3-none-any.whl.metadata (11 kB)\n",
            "Requirement already satisfied: gast==0.6.0 in /usr/local/lib/python3.11/dist-packages (from -r requirements.txt (line 19)) (0.6.0)\n",
            "Requirement already satisfied: google-pasta==0.2.0 in /usr/local/lib/python3.11/dist-packages (from -r requirements.txt (line 20)) (0.2.0)\n",
            "Collecting grpcio==1.64.1 (from -r requirements.txt (line 21))\n",
            "  Downloading grpcio-1.64.1-cp311-cp311-manylinux_2_17_x86_64.manylinux2014_x86_64.whl.metadata (3.3 kB)\n",
            "Collecting h5py==3.11.0 (from -r requirements.txt (line 22))\n",
            "  Downloading h5py-3.11.0-cp311-cp311-manylinux_2_17_x86_64.manylinux2014_x86_64.whl.metadata (2.5 kB)\n",
            "Collecting idna==3.7 (from -r requirements.txt (line 23))\n",
            "  Downloading idna-3.7-py3-none-any.whl.metadata (9.9 kB)\n",
            "Collecting ipykernel==6.29.5 (from -r requirements.txt (line 24))\n",
            "  Downloading ipykernel-6.29.5-py3-none-any.whl.metadata (6.3 kB)\n",
            "Collecting ipython==8.26.0 (from -r requirements.txt (line 25))\n",
            "  Downloading ipython-8.26.0-py3-none-any.whl.metadata (5.0 kB)\n",
            "Collecting jedi==0.19.1 (from -r requirements.txt (line 26))\n",
            "  Downloading jedi-0.19.1-py2.py3-none-any.whl.metadata (22 kB)\n",
            "Collecting Jinja2==3.1.4 (from -r requirements.txt (line 27))\n",
            "  Downloading jinja2-3.1.4-py3-none-any.whl.metadata (2.6 kB)\n",
            "Requirement already satisfied: joblib==1.4.2 in /usr/local/lib/python3.11/dist-packages (from -r requirements.txt (line 28)) (1.4.2)\n",
            "Requirement already satisfied: jsonschema==4.23.0 in /usr/local/lib/python3.11/dist-packages (from -r requirements.txt (line 29)) (4.23.0)\n",
            "Collecting jsonschema-specifications==2023.12.1 (from -r requirements.txt (line 30))\n",
            "  Downloading jsonschema_specifications-2023.12.1-py3-none-any.whl.metadata (3.0 kB)\n",
            "Collecting jupyter_client==8.6.2 (from -r requirements.txt (line 31))\n",
            "  Downloading jupyter_client-8.6.2-py3-none-any.whl.metadata (8.3 kB)\n",
            "Requirement already satisfied: jupyter_core==5.7.2 in /usr/local/lib/python3.11/dist-packages (from -r requirements.txt (line 32)) (5.7.2)\n",
            "Collecting keras==3.4.1 (from -r requirements.txt (line 33))\n",
            "  Downloading keras-3.4.1-py3-none-any.whl.metadata (5.8 kB)\n",
            "Collecting kiwisolver==1.4.5 (from -r requirements.txt (line 34))\n",
            "  Downloading kiwisolver-1.4.5-cp311-cp311-manylinux_2_17_x86_64.manylinux2014_x86_64.whl.metadata (6.4 kB)\n",
            "Requirement already satisfied: libclang==18.1.1 in /usr/local/lib/python3.11/dist-packages (from -r requirements.txt (line 35)) (18.1.1)\n",
            "Collecting Markdown==3.6 (from -r requirements.txt (line 36))\n",
            "  Downloading Markdown-3.6-py3-none-any.whl.metadata (7.0 kB)\n",
            "Requirement already satisfied: markdown-it-py==3.0.0 in /usr/local/lib/python3.11/dist-packages (from -r requirements.txt (line 37)) (3.0.0)\n",
            "Collecting MarkupSafe==2.1.5 (from -r requirements.txt (line 38))\n",
            "  Downloading MarkupSafe-2.1.5-cp311-cp311-manylinux_2_17_x86_64.manylinux2014_x86_64.whl.metadata (3.0 kB)\n",
            "Collecting matplotlib==3.9.1 (from -r requirements.txt (line 39))\n",
            "  Downloading matplotlib-3.9.1-cp311-cp311-manylinux_2_17_x86_64.manylinux2014_x86_64.whl.metadata (11 kB)\n",
            "Requirement already satisfied: matplotlib-inline==0.1.7 in /usr/local/lib/python3.11/dist-packages (from -r requirements.txt (line 40)) (0.1.7)\n",
            "Requirement already satisfied: mdurl==0.1.2 in /usr/local/lib/python3.11/dist-packages (from -r requirements.txt (line 41)) (0.1.2)\n",
            "Collecting ml-dtypes==0.3.2 (from -r requirements.txt (line 42))\n",
            "  Downloading ml_dtypes-0.3.2-cp311-cp311-manylinux_2_17_x86_64.manylinux2014_x86_64.whl.metadata (20 kB)\n",
            "Requirement already satisfied: mpmath==1.3.0 in /usr/local/lib/python3.11/dist-packages (from -r requirements.txt (line 43)) (1.3.0)\n",
            "Requirement already satisfied: namex==0.0.8 in /usr/local/lib/python3.11/dist-packages (from -r requirements.txt (line 44)) (0.0.8)\n",
            "Requirement already satisfied: nbformat==5.10.4 in /usr/local/lib/python3.11/dist-packages (from -r requirements.txt (line 45)) (5.10.4)\n",
            "Requirement already satisfied: nest-asyncio==1.6.0 in /usr/local/lib/python3.11/dist-packages (from -r requirements.txt (line 46)) (1.6.0)\n",
            "Collecting networkx==3.3 (from -r requirements.txt (line 47))\n",
            "  Downloading networkx-3.3-py3-none-any.whl.metadata (5.1 kB)\n",
            "Requirement already satisfied: numpy==1.26.4 in /usr/local/lib/python3.11/dist-packages (from -r requirements.txt (line 48)) (1.26.4)\n",
            "Collecting opt-einsum==3.3.0 (from -r requirements.txt (line 49))\n",
            "  Downloading opt_einsum-3.3.0-py3-none-any.whl.metadata (6.5 kB)\n",
            "Collecting optree==0.11.0 (from -r requirements.txt (line 50))\n",
            "  Downloading optree-0.11.0-cp311-cp311-manylinux_2_17_x86_64.manylinux2014_x86_64.whl.metadata (45 kB)\n",
            "\u001b[2K     \u001b[90m━━━━━━━━━━━━━━━━━━━━━━━━━━━━━━━━━━━━━━━━\u001b[0m \u001b[32m45.4/45.4 kB\u001b[0m \u001b[31m4.4 MB/s\u001b[0m eta \u001b[36m0:00:00\u001b[0m\n",
            "\u001b[?25hCollecting packaging==24.1 (from -r requirements.txt (line 51))\n",
            "  Downloading packaging-24.1-py3-none-any.whl.metadata (3.2 kB)\n",
            "Requirement already satisfied: pandas==2.2.2 in /usr/local/lib/python3.11/dist-packages (from -r requirements.txt (line 52)) (2.2.2)\n",
            "Requirement already satisfied: parso==0.8.4 in /usr/local/lib/python3.11/dist-packages (from -r requirements.txt (line 53)) (0.8.4)\n",
            "Collecting pillow==10.4.0 (from -r requirements.txt (line 54))\n",
            "  Downloading pillow-10.4.0-cp311-cp311-manylinux_2_28_x86_64.whl.metadata (9.2 kB)\n",
            "Collecting platformdirs==4.2.2 (from -r requirements.txt (line 55))\n",
            "  Downloading platformdirs-4.2.2-py3-none-any.whl.metadata (11 kB)\n",
            "Requirement already satisfied: plotly==5.24.1 in /usr/local/lib/python3.11/dist-packages (from -r requirements.txt (line 56)) (5.24.1)\n",
            "Collecting prompt_toolkit==3.0.47 (from -r requirements.txt (line 57))\n",
            "  Downloading prompt_toolkit-3.0.47-py3-none-any.whl.metadata (6.4 kB)\n",
            "Collecting protobuf==4.25.3 (from -r requirements.txt (line 58))\n",
            "  Downloading protobuf-4.25.3-cp37-abi3-manylinux2014_x86_64.whl.metadata (541 bytes)\n",
            "Collecting psutil==6.0.0 (from -r requirements.txt (line 59))\n",
            "  Downloading psutil-6.0.0-cp36-abi3-manylinux_2_12_x86_64.manylinux2010_x86_64.manylinux_2_17_x86_64.manylinux2014_x86_64.whl.metadata (21 kB)\n",
            "Collecting pure-eval==0.2.2 (from -r requirements.txt (line 60))\n",
            "  Downloading pure_eval-0.2.2-py3-none-any.whl.metadata (6.2 kB)\n",
            "Requirement already satisfied: Pygments==2.18.0 in /usr/local/lib/python3.11/dist-packages (from -r requirements.txt (line 61)) (2.18.0)\n",
            "Collecting pyparsing==3.1.2 (from -r requirements.txt (line 62))\n",
            "  Downloading pyparsing-3.1.2-py3-none-any.whl.metadata (5.1 kB)\n",
            "Collecting python-dateutil==2.9.0.post0 (from -r requirements.txt (line 63))\n",
            "  Downloading python_dateutil-2.9.0.post0-py2.py3-none-any.whl.metadata (8.4 kB)\n",
            "Collecting pytz==2024.1 (from -r requirements.txt (line 64))\n",
            "  Downloading pytz-2024.1-py2.py3-none-any.whl.metadata (22 kB)\n",
            "\u001b[31mERROR: Could not find a version that satisfies the requirement pywin32==306 (from versions: none)\u001b[0m\u001b[31m\n",
            "\u001b[0m\u001b[31mERROR: No matching distribution found for pywin32==306\u001b[0m\u001b[31m\n",
            "\u001b[0m"
          ]
        }
      ]
    },
    {
      "cell_type": "code",
      "source": [
        "!pip install tensorflow\n",
        "\n"
      ],
      "metadata": {
        "colab": {
          "base_uri": "https://localhost:8080/"
        },
        "id": "HpSme9SvtkSl",
        "outputId": "62ac76e3-8425-4517-f761-cf26216a3913"
      },
      "execution_count": 6,
      "outputs": [
        {
          "output_type": "stream",
          "name": "stdout",
          "text": [
            "Requirement already satisfied: tensorflow in /usr/local/lib/python3.11/dist-packages (2.18.0)\n",
            "Requirement already satisfied: absl-py>=1.0.0 in /usr/local/lib/python3.11/dist-packages (from tensorflow) (1.4.0)\n",
            "Requirement already satisfied: astunparse>=1.6.0 in /usr/local/lib/python3.11/dist-packages (from tensorflow) (1.6.3)\n",
            "Requirement already satisfied: flatbuffers>=24.3.25 in /usr/local/lib/python3.11/dist-packages (from tensorflow) (25.2.10)\n",
            "Requirement already satisfied: gast!=0.5.0,!=0.5.1,!=0.5.2,>=0.2.1 in /usr/local/lib/python3.11/dist-packages (from tensorflow) (0.6.0)\n",
            "Requirement already satisfied: google-pasta>=0.1.1 in /usr/local/lib/python3.11/dist-packages (from tensorflow) (0.2.0)\n",
            "Requirement already satisfied: libclang>=13.0.0 in /usr/local/lib/python3.11/dist-packages (from tensorflow) (18.1.1)\n",
            "Requirement already satisfied: opt-einsum>=2.3.2 in /usr/local/lib/python3.11/dist-packages (from tensorflow) (3.4.0)\n",
            "Requirement already satisfied: packaging in /usr/local/lib/python3.11/dist-packages (from tensorflow) (24.2)\n",
            "Requirement already satisfied: protobuf!=4.21.0,!=4.21.1,!=4.21.2,!=4.21.3,!=4.21.4,!=4.21.5,<6.0.0dev,>=3.20.3 in /usr/local/lib/python3.11/dist-packages (from tensorflow) (4.25.6)\n",
            "Requirement already satisfied: requests<3,>=2.21.0 in /usr/local/lib/python3.11/dist-packages (from tensorflow) (2.32.3)\n",
            "Requirement already satisfied: setuptools in /usr/local/lib/python3.11/dist-packages (from tensorflow) (75.1.0)\n",
            "Requirement already satisfied: six>=1.12.0 in /usr/local/lib/python3.11/dist-packages (from tensorflow) (1.17.0)\n",
            "Requirement already satisfied: termcolor>=1.1.0 in /usr/local/lib/python3.11/dist-packages (from tensorflow) (2.5.0)\n",
            "Requirement already satisfied: typing-extensions>=3.6.6 in /usr/local/lib/python3.11/dist-packages (from tensorflow) (4.12.2)\n",
            "Requirement already satisfied: wrapt>=1.11.0 in /usr/local/lib/python3.11/dist-packages (from tensorflow) (1.17.2)\n",
            "Requirement already satisfied: grpcio<2.0,>=1.24.3 in /usr/local/lib/python3.11/dist-packages (from tensorflow) (1.70.0)\n",
            "Requirement already satisfied: tensorboard<2.19,>=2.18 in /usr/local/lib/python3.11/dist-packages (from tensorflow) (2.18.0)\n",
            "Requirement already satisfied: keras>=3.5.0 in /usr/local/lib/python3.11/dist-packages (from tensorflow) (3.8.0)\n",
            "Requirement already satisfied: numpy<2.1.0,>=1.26.0 in /usr/local/lib/python3.11/dist-packages (from tensorflow) (1.26.4)\n",
            "Requirement already satisfied: h5py>=3.11.0 in /usr/local/lib/python3.11/dist-packages (from tensorflow) (3.12.1)\n",
            "Requirement already satisfied: ml-dtypes<0.5.0,>=0.4.0 in /usr/local/lib/python3.11/dist-packages (from tensorflow) (0.4.1)\n",
            "Requirement already satisfied: tensorflow-io-gcs-filesystem>=0.23.1 in /usr/local/lib/python3.11/dist-packages (from tensorflow) (0.37.1)\n",
            "Requirement already satisfied: wheel<1.0,>=0.23.0 in /usr/local/lib/python3.11/dist-packages (from astunparse>=1.6.0->tensorflow) (0.45.1)\n",
            "Requirement already satisfied: rich in /usr/local/lib/python3.11/dist-packages (from keras>=3.5.0->tensorflow) (13.9.4)\n",
            "Requirement already satisfied: namex in /usr/local/lib/python3.11/dist-packages (from keras>=3.5.0->tensorflow) (0.0.8)\n",
            "Requirement already satisfied: optree in /usr/local/lib/python3.11/dist-packages (from keras>=3.5.0->tensorflow) (0.14.0)\n",
            "Requirement already satisfied: charset-normalizer<4,>=2 in /usr/local/lib/python3.11/dist-packages (from requests<3,>=2.21.0->tensorflow) (3.4.1)\n",
            "Requirement already satisfied: idna<4,>=2.5 in /usr/local/lib/python3.11/dist-packages (from requests<3,>=2.21.0->tensorflow) (3.10)\n",
            "Requirement already satisfied: urllib3<3,>=1.21.1 in /usr/local/lib/python3.11/dist-packages (from requests<3,>=2.21.0->tensorflow) (2.3.0)\n",
            "Requirement already satisfied: certifi>=2017.4.17 in /usr/local/lib/python3.11/dist-packages (from requests<3,>=2.21.0->tensorflow) (2025.1.31)\n",
            "Requirement already satisfied: markdown>=2.6.8 in /usr/local/lib/python3.11/dist-packages (from tensorboard<2.19,>=2.18->tensorflow) (3.7)\n",
            "Requirement already satisfied: tensorboard-data-server<0.8.0,>=0.7.0 in /usr/local/lib/python3.11/dist-packages (from tensorboard<2.19,>=2.18->tensorflow) (0.7.2)\n",
            "Requirement already satisfied: werkzeug>=1.0.1 in /usr/local/lib/python3.11/dist-packages (from tensorboard<2.19,>=2.18->tensorflow) (3.1.3)\n",
            "Requirement already satisfied: MarkupSafe>=2.1.1 in /usr/local/lib/python3.11/dist-packages (from werkzeug>=1.0.1->tensorboard<2.19,>=2.18->tensorflow) (3.0.2)\n",
            "Requirement already satisfied: markdown-it-py>=2.2.0 in /usr/local/lib/python3.11/dist-packages (from rich->keras>=3.5.0->tensorflow) (3.0.0)\n",
            "Requirement already satisfied: pygments<3.0.0,>=2.13.0 in /usr/local/lib/python3.11/dist-packages (from rich->keras>=3.5.0->tensorflow) (2.18.0)\n",
            "Requirement already satisfied: mdurl~=0.1 in /usr/local/lib/python3.11/dist-packages (from markdown-it-py>=2.2.0->rich->keras>=3.5.0->tensorflow) (0.1.2)\n"
          ]
        }
      ]
    },
    {
      "cell_type": "markdown",
      "metadata": {
        "id": "68khy5E7sWcj"
      },
      "source": [
        "# Dataset Preparation\n",
        "\n",
        "Note that, all the data has been cleaned and prepared"
      ]
    },
    {
      "cell_type": "code",
      "source": [],
      "metadata": {
        "id": "JNK_v1vPsq2r"
      },
      "execution_count": null,
      "outputs": []
    },
    {
      "cell_type": "code",
      "execution_count": 7,
      "metadata": {
        "id": "N95y4OYtsWck"
      },
      "outputs": [],
      "source": [
        "# Power load dataset\n",
        "load_dataset = pd.read_csv(\"data/load_data_clean.csv\")\n",
        "# Meterological dataset\n",
        "met_dataset = pd.read_csv(\"data/met_data_clean.csv\")\n",
        "# Convert to Dataframe\n",
        "load_df = pd.DataFrame(load_dataset)\n",
        "met_df = pd.DataFrame(met_dataset)"
      ]
    },
    {
      "cell_type": "code",
      "execution_count": 8,
      "metadata": {
        "id": "QvDAosCasWcl"
      },
      "outputs": [],
      "source": [
        "load_df[\"DATE (MM/DD/YYYY)\"] = pd.to_datetime(\n",
        "    load_df[\"DATE (MM/DD/YYYY)\"], format=\"%m/%d/%Y\"\n",
        ")\n",
        "\n",
        "met_df[\"DATE (MM/DD/YYYY)\"] = pd.to_datetime(\n",
        "    met_df[\"DATE (MM/DD/YYYY)\"], format=\"%m/%d/%Y\"\n",
        ")"
      ]
    },
    {
      "cell_type": "code",
      "execution_count": 9,
      "metadata": {
        "colab": {
          "base_uri": "https://localhost:8080/",
          "height": 290
        },
        "id": "Sg8MTerlsWcl",
        "outputId": "ebc2786c-3605-4481-fe90-3e7778732895"
      },
      "outputs": [
        {
          "output_type": "execute_result",
          "data": {
            "text/plain": [
              "  DATE (MM/DD/YYYY)         KW       KWS     CHWTON  HTmmBTU  Combined mmBTU  \\\n",
              "0        2024-05-01  351973.45  39367.64  117009.06   115.27         2720.37   \n",
              "1        2024-05-02  353826.38  39144.04  119220.71   115.03         2752.99   \n",
              "2        2024-05-03  357657.88  38935.34  123171.43   109.79         2808.22   \n",
              "3        2024-05-04  363958.25  38676.54  118279.24   108.33         2769.56   \n",
              "4        2024-05-05  320144.95  33341.16  106070.52   108.39         2473.62   \n",
              "\n",
              "   Combined Tons Carbon  KW#Houses  KWlightbulbs  KWgalsgas  ...  \\\n",
              "0                497.21     100564      25140971       9608  ...   \n",
              "1                503.17     101093      25273323       9658  ...   \n",
              "2                513.27     102188      25547001       9763  ...   \n",
              "3                506.20     103988      25997028       9935  ...   \n",
              "4                452.11      91470      22867506       8739  ...   \n",
              "\n",
              "   CHWTONlightbulbs  CHWTONgalsgas  HTmmBTU#Houses  HTmmBTUlightbulbs  \\\n",
              "0          29385656          11233            9652            2412510   \n",
              "1          29941089          11445            9632            2407457   \n",
              "2          30933274          11824            9193            2297666   \n",
              "3          29704649          11355            9071            2267263   \n",
              "4          26638552          10183            9076            2268428   \n",
              "\n",
              "   HTmmBTUgalsgas  Total#Houses  Totallightbulbs  Totalgalsgas      GHG  DOW  \n",
              "0             922        227789         56939137        969870  169.754    4  \n",
              "1             920        230520         57621868        987740  170.867    5  \n",
              "2             878        235145         58777940       1019713  173.062    6  \n",
              "3             867        231908         57968940        981181  176.630    7  \n",
              "4             867        207127         51774485        879305  155.741    1  \n",
              "\n",
              "[5 rows x 21 columns]"
            ],
            "text/html": [
              "\n",
              "  <div id=\"df-3fc15647-6792-42a1-85a8-edcb471177c7\" class=\"colab-df-container\">\n",
              "    <div>\n",
              "<style scoped>\n",
              "    .dataframe tbody tr th:only-of-type {\n",
              "        vertical-align: middle;\n",
              "    }\n",
              "\n",
              "    .dataframe tbody tr th {\n",
              "        vertical-align: top;\n",
              "    }\n",
              "\n",
              "    .dataframe thead th {\n",
              "        text-align: right;\n",
              "    }\n",
              "</style>\n",
              "<table border=\"1\" class=\"dataframe\">\n",
              "  <thead>\n",
              "    <tr style=\"text-align: right;\">\n",
              "      <th></th>\n",
              "      <th>DATE (MM/DD/YYYY)</th>\n",
              "      <th>KW</th>\n",
              "      <th>KWS</th>\n",
              "      <th>CHWTON</th>\n",
              "      <th>HTmmBTU</th>\n",
              "      <th>Combined mmBTU</th>\n",
              "      <th>Combined Tons Carbon</th>\n",
              "      <th>KW#Houses</th>\n",
              "      <th>KWlightbulbs</th>\n",
              "      <th>KWgalsgas</th>\n",
              "      <th>...</th>\n",
              "      <th>CHWTONlightbulbs</th>\n",
              "      <th>CHWTONgalsgas</th>\n",
              "      <th>HTmmBTU#Houses</th>\n",
              "      <th>HTmmBTUlightbulbs</th>\n",
              "      <th>HTmmBTUgalsgas</th>\n",
              "      <th>Total#Houses</th>\n",
              "      <th>Totallightbulbs</th>\n",
              "      <th>Totalgalsgas</th>\n",
              "      <th>GHG</th>\n",
              "      <th>DOW</th>\n",
              "    </tr>\n",
              "  </thead>\n",
              "  <tbody>\n",
              "    <tr>\n",
              "      <th>0</th>\n",
              "      <td>2024-05-01</td>\n",
              "      <td>351973.45</td>\n",
              "      <td>39367.64</td>\n",
              "      <td>117009.06</td>\n",
              "      <td>115.27</td>\n",
              "      <td>2720.37</td>\n",
              "      <td>497.21</td>\n",
              "      <td>100564</td>\n",
              "      <td>25140971</td>\n",
              "      <td>9608</td>\n",
              "      <td>...</td>\n",
              "      <td>29385656</td>\n",
              "      <td>11233</td>\n",
              "      <td>9652</td>\n",
              "      <td>2412510</td>\n",
              "      <td>922</td>\n",
              "      <td>227789</td>\n",
              "      <td>56939137</td>\n",
              "      <td>969870</td>\n",
              "      <td>169.754</td>\n",
              "      <td>4</td>\n",
              "    </tr>\n",
              "    <tr>\n",
              "      <th>1</th>\n",
              "      <td>2024-05-02</td>\n",
              "      <td>353826.38</td>\n",
              "      <td>39144.04</td>\n",
              "      <td>119220.71</td>\n",
              "      <td>115.03</td>\n",
              "      <td>2752.99</td>\n",
              "      <td>503.17</td>\n",
              "      <td>101093</td>\n",
              "      <td>25273323</td>\n",
              "      <td>9658</td>\n",
              "      <td>...</td>\n",
              "      <td>29941089</td>\n",
              "      <td>11445</td>\n",
              "      <td>9632</td>\n",
              "      <td>2407457</td>\n",
              "      <td>920</td>\n",
              "      <td>230520</td>\n",
              "      <td>57621868</td>\n",
              "      <td>987740</td>\n",
              "      <td>170.867</td>\n",
              "      <td>5</td>\n",
              "    </tr>\n",
              "    <tr>\n",
              "      <th>2</th>\n",
              "      <td>2024-05-03</td>\n",
              "      <td>357657.88</td>\n",
              "      <td>38935.34</td>\n",
              "      <td>123171.43</td>\n",
              "      <td>109.79</td>\n",
              "      <td>2808.22</td>\n",
              "      <td>513.27</td>\n",
              "      <td>102188</td>\n",
              "      <td>25547001</td>\n",
              "      <td>9763</td>\n",
              "      <td>...</td>\n",
              "      <td>30933274</td>\n",
              "      <td>11824</td>\n",
              "      <td>9193</td>\n",
              "      <td>2297666</td>\n",
              "      <td>878</td>\n",
              "      <td>235145</td>\n",
              "      <td>58777940</td>\n",
              "      <td>1019713</td>\n",
              "      <td>173.062</td>\n",
              "      <td>6</td>\n",
              "    </tr>\n",
              "    <tr>\n",
              "      <th>3</th>\n",
              "      <td>2024-05-04</td>\n",
              "      <td>363958.25</td>\n",
              "      <td>38676.54</td>\n",
              "      <td>118279.24</td>\n",
              "      <td>108.33</td>\n",
              "      <td>2769.56</td>\n",
              "      <td>506.20</td>\n",
              "      <td>103988</td>\n",
              "      <td>25997028</td>\n",
              "      <td>9935</td>\n",
              "      <td>...</td>\n",
              "      <td>29704649</td>\n",
              "      <td>11355</td>\n",
              "      <td>9071</td>\n",
              "      <td>2267263</td>\n",
              "      <td>867</td>\n",
              "      <td>231908</td>\n",
              "      <td>57968940</td>\n",
              "      <td>981181</td>\n",
              "      <td>176.630</td>\n",
              "      <td>7</td>\n",
              "    </tr>\n",
              "    <tr>\n",
              "      <th>4</th>\n",
              "      <td>2024-05-05</td>\n",
              "      <td>320144.95</td>\n",
              "      <td>33341.16</td>\n",
              "      <td>106070.52</td>\n",
              "      <td>108.39</td>\n",
              "      <td>2473.62</td>\n",
              "      <td>452.11</td>\n",
              "      <td>91470</td>\n",
              "      <td>22867506</td>\n",
              "      <td>8739</td>\n",
              "      <td>...</td>\n",
              "      <td>26638552</td>\n",
              "      <td>10183</td>\n",
              "      <td>9076</td>\n",
              "      <td>2268428</td>\n",
              "      <td>867</td>\n",
              "      <td>207127</td>\n",
              "      <td>51774485</td>\n",
              "      <td>879305</td>\n",
              "      <td>155.741</td>\n",
              "      <td>1</td>\n",
              "    </tr>\n",
              "  </tbody>\n",
              "</table>\n",
              "<p>5 rows × 21 columns</p>\n",
              "</div>\n",
              "    <div class=\"colab-df-buttons\">\n",
              "\n",
              "  <div class=\"colab-df-container\">\n",
              "    <button class=\"colab-df-convert\" onclick=\"convertToInteractive('df-3fc15647-6792-42a1-85a8-edcb471177c7')\"\n",
              "            title=\"Convert this dataframe to an interactive table.\"\n",
              "            style=\"display:none;\">\n",
              "\n",
              "  <svg xmlns=\"http://www.w3.org/2000/svg\" height=\"24px\" viewBox=\"0 -960 960 960\">\n",
              "    <path d=\"M120-120v-720h720v720H120Zm60-500h600v-160H180v160Zm220 220h160v-160H400v160Zm0 220h160v-160H400v160ZM180-400h160v-160H180v160Zm440 0h160v-160H620v160ZM180-180h160v-160H180v160Zm440 0h160v-160H620v160Z\"/>\n",
              "  </svg>\n",
              "    </button>\n",
              "\n",
              "  <style>\n",
              "    .colab-df-container {\n",
              "      display:flex;\n",
              "      gap: 12px;\n",
              "    }\n",
              "\n",
              "    .colab-df-convert {\n",
              "      background-color: #E8F0FE;\n",
              "      border: none;\n",
              "      border-radius: 50%;\n",
              "      cursor: pointer;\n",
              "      display: none;\n",
              "      fill: #1967D2;\n",
              "      height: 32px;\n",
              "      padding: 0 0 0 0;\n",
              "      width: 32px;\n",
              "    }\n",
              "\n",
              "    .colab-df-convert:hover {\n",
              "      background-color: #E2EBFA;\n",
              "      box-shadow: 0px 1px 2px rgba(60, 64, 67, 0.3), 0px 1px 3px 1px rgba(60, 64, 67, 0.15);\n",
              "      fill: #174EA6;\n",
              "    }\n",
              "\n",
              "    .colab-df-buttons div {\n",
              "      margin-bottom: 4px;\n",
              "    }\n",
              "\n",
              "    [theme=dark] .colab-df-convert {\n",
              "      background-color: #3B4455;\n",
              "      fill: #D2E3FC;\n",
              "    }\n",
              "\n",
              "    [theme=dark] .colab-df-convert:hover {\n",
              "      background-color: #434B5C;\n",
              "      box-shadow: 0px 1px 3px 1px rgba(0, 0, 0, 0.15);\n",
              "      filter: drop-shadow(0px 1px 2px rgba(0, 0, 0, 0.3));\n",
              "      fill: #FFFFFF;\n",
              "    }\n",
              "  </style>\n",
              "\n",
              "    <script>\n",
              "      const buttonEl =\n",
              "        document.querySelector('#df-3fc15647-6792-42a1-85a8-edcb471177c7 button.colab-df-convert');\n",
              "      buttonEl.style.display =\n",
              "        google.colab.kernel.accessAllowed ? 'block' : 'none';\n",
              "\n",
              "      async function convertToInteractive(key) {\n",
              "        const element = document.querySelector('#df-3fc15647-6792-42a1-85a8-edcb471177c7');\n",
              "        const dataTable =\n",
              "          await google.colab.kernel.invokeFunction('convertToInteractive',\n",
              "                                                    [key], {});\n",
              "        if (!dataTable) return;\n",
              "\n",
              "        const docLinkHtml = 'Like what you see? Visit the ' +\n",
              "          '<a target=\"_blank\" href=https://colab.research.google.com/notebooks/data_table.ipynb>data table notebook</a>'\n",
              "          + ' to learn more about interactive tables.';\n",
              "        element.innerHTML = '';\n",
              "        dataTable['output_type'] = 'display_data';\n",
              "        await google.colab.output.renderOutput(dataTable, element);\n",
              "        const docLink = document.createElement('div');\n",
              "        docLink.innerHTML = docLinkHtml;\n",
              "        element.appendChild(docLink);\n",
              "      }\n",
              "    </script>\n",
              "  </div>\n",
              "\n",
              "\n",
              "<div id=\"df-5f7b225b-0320-4636-944a-c44d44b5f1ab\">\n",
              "  <button class=\"colab-df-quickchart\" onclick=\"quickchart('df-5f7b225b-0320-4636-944a-c44d44b5f1ab')\"\n",
              "            title=\"Suggest charts\"\n",
              "            style=\"display:none;\">\n",
              "\n",
              "<svg xmlns=\"http://www.w3.org/2000/svg\" height=\"24px\"viewBox=\"0 0 24 24\"\n",
              "     width=\"24px\">\n",
              "    <g>\n",
              "        <path d=\"M19 3H5c-1.1 0-2 .9-2 2v14c0 1.1.9 2 2 2h14c1.1 0 2-.9 2-2V5c0-1.1-.9-2-2-2zM9 17H7v-7h2v7zm4 0h-2V7h2v10zm4 0h-2v-4h2v4z\"/>\n",
              "    </g>\n",
              "</svg>\n",
              "  </button>\n",
              "\n",
              "<style>\n",
              "  .colab-df-quickchart {\n",
              "      --bg-color: #E8F0FE;\n",
              "      --fill-color: #1967D2;\n",
              "      --hover-bg-color: #E2EBFA;\n",
              "      --hover-fill-color: #174EA6;\n",
              "      --disabled-fill-color: #AAA;\n",
              "      --disabled-bg-color: #DDD;\n",
              "  }\n",
              "\n",
              "  [theme=dark] .colab-df-quickchart {\n",
              "      --bg-color: #3B4455;\n",
              "      --fill-color: #D2E3FC;\n",
              "      --hover-bg-color: #434B5C;\n",
              "      --hover-fill-color: #FFFFFF;\n",
              "      --disabled-bg-color: #3B4455;\n",
              "      --disabled-fill-color: #666;\n",
              "  }\n",
              "\n",
              "  .colab-df-quickchart {\n",
              "    background-color: var(--bg-color);\n",
              "    border: none;\n",
              "    border-radius: 50%;\n",
              "    cursor: pointer;\n",
              "    display: none;\n",
              "    fill: var(--fill-color);\n",
              "    height: 32px;\n",
              "    padding: 0;\n",
              "    width: 32px;\n",
              "  }\n",
              "\n",
              "  .colab-df-quickchart:hover {\n",
              "    background-color: var(--hover-bg-color);\n",
              "    box-shadow: 0 1px 2px rgba(60, 64, 67, 0.3), 0 1px 3px 1px rgba(60, 64, 67, 0.15);\n",
              "    fill: var(--button-hover-fill-color);\n",
              "  }\n",
              "\n",
              "  .colab-df-quickchart-complete:disabled,\n",
              "  .colab-df-quickchart-complete:disabled:hover {\n",
              "    background-color: var(--disabled-bg-color);\n",
              "    fill: var(--disabled-fill-color);\n",
              "    box-shadow: none;\n",
              "  }\n",
              "\n",
              "  .colab-df-spinner {\n",
              "    border: 2px solid var(--fill-color);\n",
              "    border-color: transparent;\n",
              "    border-bottom-color: var(--fill-color);\n",
              "    animation:\n",
              "      spin 1s steps(1) infinite;\n",
              "  }\n",
              "\n",
              "  @keyframes spin {\n",
              "    0% {\n",
              "      border-color: transparent;\n",
              "      border-bottom-color: var(--fill-color);\n",
              "      border-left-color: var(--fill-color);\n",
              "    }\n",
              "    20% {\n",
              "      border-color: transparent;\n",
              "      border-left-color: var(--fill-color);\n",
              "      border-top-color: var(--fill-color);\n",
              "    }\n",
              "    30% {\n",
              "      border-color: transparent;\n",
              "      border-left-color: var(--fill-color);\n",
              "      border-top-color: var(--fill-color);\n",
              "      border-right-color: var(--fill-color);\n",
              "    }\n",
              "    40% {\n",
              "      border-color: transparent;\n",
              "      border-right-color: var(--fill-color);\n",
              "      border-top-color: var(--fill-color);\n",
              "    }\n",
              "    60% {\n",
              "      border-color: transparent;\n",
              "      border-right-color: var(--fill-color);\n",
              "    }\n",
              "    80% {\n",
              "      border-color: transparent;\n",
              "      border-right-color: var(--fill-color);\n",
              "      border-bottom-color: var(--fill-color);\n",
              "    }\n",
              "    90% {\n",
              "      border-color: transparent;\n",
              "      border-bottom-color: var(--fill-color);\n",
              "    }\n",
              "  }\n",
              "</style>\n",
              "\n",
              "  <script>\n",
              "    async function quickchart(key) {\n",
              "      const quickchartButtonEl =\n",
              "        document.querySelector('#' + key + ' button');\n",
              "      quickchartButtonEl.disabled = true;  // To prevent multiple clicks.\n",
              "      quickchartButtonEl.classList.add('colab-df-spinner');\n",
              "      try {\n",
              "        const charts = await google.colab.kernel.invokeFunction(\n",
              "            'suggestCharts', [key], {});\n",
              "      } catch (error) {\n",
              "        console.error('Error during call to suggestCharts:', error);\n",
              "      }\n",
              "      quickchartButtonEl.classList.remove('colab-df-spinner');\n",
              "      quickchartButtonEl.classList.add('colab-df-quickchart-complete');\n",
              "    }\n",
              "    (() => {\n",
              "      let quickchartButtonEl =\n",
              "        document.querySelector('#df-5f7b225b-0320-4636-944a-c44d44b5f1ab button');\n",
              "      quickchartButtonEl.style.display =\n",
              "        google.colab.kernel.accessAllowed ? 'block' : 'none';\n",
              "    })();\n",
              "  </script>\n",
              "</div>\n",
              "\n",
              "    </div>\n",
              "  </div>\n"
            ],
            "application/vnd.google.colaboratory.intrinsic+json": {
              "type": "dataframe",
              "variable_name": "load_df"
            }
          },
          "metadata": {},
          "execution_count": 9
        }
      ],
      "source": [
        "load_df.head()"
      ]
    },
    {
      "cell_type": "code",
      "execution_count": 10,
      "metadata": {
        "colab": {
          "base_uri": "https://localhost:8080/",
          "height": 313
        },
        "id": "g9i3WPhQsWcm",
        "outputId": "6933b2f7-43b3-4185-dcdd-3a222264797c"
      },
      "outputs": [
        {
          "output_type": "execute_result",
          "data": {
            "text/plain": [
              "  DATE (MM/DD/YYYY)  AVG Air Temperature [deg F]  MAX Air Temperature [deg F]  \\\n",
              "0        2024-05-01                      76.2268                       87.494   \n",
              "1        2024-05-02                      76.1305                       89.690   \n",
              "2        2024-05-03                      77.3261                       89.960   \n",
              "3        2024-05-04                      76.8995                       89.762   \n",
              "4        2024-05-05                      75.1771                       86.774   \n",
              "\n",
              "   MIN Air Temperature [deg F]  AVG Rel Humidity [%]  MAX Rel Humidity [%]  \\\n",
              "0                       61.322               19.3349                 34.09   \n",
              "1                       60.836               18.6194                 36.39   \n",
              "2                       63.878               19.7970                 41.99   \n",
              "3                       61.106               17.8820                 31.30   \n",
              "4                       63.176               18.5651                 30.04   \n",
              "\n",
              "   MIN Rel Humidity [%]  AVG Avg Wind Speed @ 3m [MPH]  \\\n",
              "0                 8.040                         7.5972   \n",
              "1                 6.938                         5.1366   \n",
              "2                 6.877                         5.7147   \n",
              "3                 6.234                         5.5733   \n",
              "4                 9.040                        11.2813   \n",
              "\n",
              "   MAX Avg Wind Speed @ 3m [MPH]  MIN Avg Wind Speed @ 3m [MPH]  \\\n",
              "0                        24.4721                            0.0   \n",
              "1                        22.8839                            0.0   \n",
              "2                        23.8457                            0.0   \n",
              "3                        20.5574                            0.0   \n",
              "4                        32.4132                            0.0   \n",
              "\n",
              "   AVG Peak Wind Speed @ 3m [MPH]  MAX Peak Wind Speed @ 3m [MPH]  \\\n",
              "0                         11.1715                         30.6460   \n",
              "1                          8.0311                         27.2906   \n",
              "2                          8.8923                         39.0345   \n",
              "3                          8.6903                         25.6129   \n",
              "4                         16.0872                         44.0676   \n",
              "\n",
              "   MIN Peak Wind Speed @ 3m [MPH]  AVG Station Pressure [inHg]  \\\n",
              "0                             0.0                      27.2098   \n",
              "1                             0.0                      27.2407   \n",
              "2                             0.0                      27.2277   \n",
              "3                             0.0                      27.2277   \n",
              "4                             0.0                      27.2212   \n",
              "\n",
              "   MAX Station Pressure [inHg]  MIN Station Pressure [inHg]  \n",
              "0                      27.2561                      27.1436  \n",
              "1                      27.2873                      27.1868  \n",
              "2                      27.2663                      27.1653  \n",
              "3                      27.2670                      27.1798  \n",
              "4                      27.2677                      27.1493  "
            ],
            "text/html": [
              "\n",
              "  <div id=\"df-9f493278-c1ad-4d82-a40c-7191487d3983\" class=\"colab-df-container\">\n",
              "    <div>\n",
              "<style scoped>\n",
              "    .dataframe tbody tr th:only-of-type {\n",
              "        vertical-align: middle;\n",
              "    }\n",
              "\n",
              "    .dataframe tbody tr th {\n",
              "        vertical-align: top;\n",
              "    }\n",
              "\n",
              "    .dataframe thead th {\n",
              "        text-align: right;\n",
              "    }\n",
              "</style>\n",
              "<table border=\"1\" class=\"dataframe\">\n",
              "  <thead>\n",
              "    <tr style=\"text-align: right;\">\n",
              "      <th></th>\n",
              "      <th>DATE (MM/DD/YYYY)</th>\n",
              "      <th>AVG Air Temperature [deg F]</th>\n",
              "      <th>MAX Air Temperature [deg F]</th>\n",
              "      <th>MIN Air Temperature [deg F]</th>\n",
              "      <th>AVG Rel Humidity [%]</th>\n",
              "      <th>MAX Rel Humidity [%]</th>\n",
              "      <th>MIN Rel Humidity [%]</th>\n",
              "      <th>AVG Avg Wind Speed @ 3m [MPH]</th>\n",
              "      <th>MAX Avg Wind Speed @ 3m [MPH]</th>\n",
              "      <th>MIN Avg Wind Speed @ 3m [MPH]</th>\n",
              "      <th>AVG Peak Wind Speed @ 3m [MPH]</th>\n",
              "      <th>MAX Peak Wind Speed @ 3m [MPH]</th>\n",
              "      <th>MIN Peak Wind Speed @ 3m [MPH]</th>\n",
              "      <th>AVG Station Pressure [inHg]</th>\n",
              "      <th>MAX Station Pressure [inHg]</th>\n",
              "      <th>MIN Station Pressure [inHg]</th>\n",
              "    </tr>\n",
              "  </thead>\n",
              "  <tbody>\n",
              "    <tr>\n",
              "      <th>0</th>\n",
              "      <td>2024-05-01</td>\n",
              "      <td>76.2268</td>\n",
              "      <td>87.494</td>\n",
              "      <td>61.322</td>\n",
              "      <td>19.3349</td>\n",
              "      <td>34.09</td>\n",
              "      <td>8.040</td>\n",
              "      <td>7.5972</td>\n",
              "      <td>24.4721</td>\n",
              "      <td>0.0</td>\n",
              "      <td>11.1715</td>\n",
              "      <td>30.6460</td>\n",
              "      <td>0.0</td>\n",
              "      <td>27.2098</td>\n",
              "      <td>27.2561</td>\n",
              "      <td>27.1436</td>\n",
              "    </tr>\n",
              "    <tr>\n",
              "      <th>1</th>\n",
              "      <td>2024-05-02</td>\n",
              "      <td>76.1305</td>\n",
              "      <td>89.690</td>\n",
              "      <td>60.836</td>\n",
              "      <td>18.6194</td>\n",
              "      <td>36.39</td>\n",
              "      <td>6.938</td>\n",
              "      <td>5.1366</td>\n",
              "      <td>22.8839</td>\n",
              "      <td>0.0</td>\n",
              "      <td>8.0311</td>\n",
              "      <td>27.2906</td>\n",
              "      <td>0.0</td>\n",
              "      <td>27.2407</td>\n",
              "      <td>27.2873</td>\n",
              "      <td>27.1868</td>\n",
              "    </tr>\n",
              "    <tr>\n",
              "      <th>2</th>\n",
              "      <td>2024-05-03</td>\n",
              "      <td>77.3261</td>\n",
              "      <td>89.960</td>\n",
              "      <td>63.878</td>\n",
              "      <td>19.7970</td>\n",
              "      <td>41.99</td>\n",
              "      <td>6.877</td>\n",
              "      <td>5.7147</td>\n",
              "      <td>23.8457</td>\n",
              "      <td>0.0</td>\n",
              "      <td>8.8923</td>\n",
              "      <td>39.0345</td>\n",
              "      <td>0.0</td>\n",
              "      <td>27.2277</td>\n",
              "      <td>27.2663</td>\n",
              "      <td>27.1653</td>\n",
              "    </tr>\n",
              "    <tr>\n",
              "      <th>3</th>\n",
              "      <td>2024-05-04</td>\n",
              "      <td>76.8995</td>\n",
              "      <td>89.762</td>\n",
              "      <td>61.106</td>\n",
              "      <td>17.8820</td>\n",
              "      <td>31.30</td>\n",
              "      <td>6.234</td>\n",
              "      <td>5.5733</td>\n",
              "      <td>20.5574</td>\n",
              "      <td>0.0</td>\n",
              "      <td>8.6903</td>\n",
              "      <td>25.6129</td>\n",
              "      <td>0.0</td>\n",
              "      <td>27.2277</td>\n",
              "      <td>27.2670</td>\n",
              "      <td>27.1798</td>\n",
              "    </tr>\n",
              "    <tr>\n",
              "      <th>4</th>\n",
              "      <td>2024-05-05</td>\n",
              "      <td>75.1771</td>\n",
              "      <td>86.774</td>\n",
              "      <td>63.176</td>\n",
              "      <td>18.5651</td>\n",
              "      <td>30.04</td>\n",
              "      <td>9.040</td>\n",
              "      <td>11.2813</td>\n",
              "      <td>32.4132</td>\n",
              "      <td>0.0</td>\n",
              "      <td>16.0872</td>\n",
              "      <td>44.0676</td>\n",
              "      <td>0.0</td>\n",
              "      <td>27.2212</td>\n",
              "      <td>27.2677</td>\n",
              "      <td>27.1493</td>\n",
              "    </tr>\n",
              "  </tbody>\n",
              "</table>\n",
              "</div>\n",
              "    <div class=\"colab-df-buttons\">\n",
              "\n",
              "  <div class=\"colab-df-container\">\n",
              "    <button class=\"colab-df-convert\" onclick=\"convertToInteractive('df-9f493278-c1ad-4d82-a40c-7191487d3983')\"\n",
              "            title=\"Convert this dataframe to an interactive table.\"\n",
              "            style=\"display:none;\">\n",
              "\n",
              "  <svg xmlns=\"http://www.w3.org/2000/svg\" height=\"24px\" viewBox=\"0 -960 960 960\">\n",
              "    <path d=\"M120-120v-720h720v720H120Zm60-500h600v-160H180v160Zm220 220h160v-160H400v160Zm0 220h160v-160H400v160ZM180-400h160v-160H180v160Zm440 0h160v-160H620v160ZM180-180h160v-160H180v160Zm440 0h160v-160H620v160Z\"/>\n",
              "  </svg>\n",
              "    </button>\n",
              "\n",
              "  <style>\n",
              "    .colab-df-container {\n",
              "      display:flex;\n",
              "      gap: 12px;\n",
              "    }\n",
              "\n",
              "    .colab-df-convert {\n",
              "      background-color: #E8F0FE;\n",
              "      border: none;\n",
              "      border-radius: 50%;\n",
              "      cursor: pointer;\n",
              "      display: none;\n",
              "      fill: #1967D2;\n",
              "      height: 32px;\n",
              "      padding: 0 0 0 0;\n",
              "      width: 32px;\n",
              "    }\n",
              "\n",
              "    .colab-df-convert:hover {\n",
              "      background-color: #E2EBFA;\n",
              "      box-shadow: 0px 1px 2px rgba(60, 64, 67, 0.3), 0px 1px 3px 1px rgba(60, 64, 67, 0.15);\n",
              "      fill: #174EA6;\n",
              "    }\n",
              "\n",
              "    .colab-df-buttons div {\n",
              "      margin-bottom: 4px;\n",
              "    }\n",
              "\n",
              "    [theme=dark] .colab-df-convert {\n",
              "      background-color: #3B4455;\n",
              "      fill: #D2E3FC;\n",
              "    }\n",
              "\n",
              "    [theme=dark] .colab-df-convert:hover {\n",
              "      background-color: #434B5C;\n",
              "      box-shadow: 0px 1px 3px 1px rgba(0, 0, 0, 0.15);\n",
              "      filter: drop-shadow(0px 1px 2px rgba(0, 0, 0, 0.3));\n",
              "      fill: #FFFFFF;\n",
              "    }\n",
              "  </style>\n",
              "\n",
              "    <script>\n",
              "      const buttonEl =\n",
              "        document.querySelector('#df-9f493278-c1ad-4d82-a40c-7191487d3983 button.colab-df-convert');\n",
              "      buttonEl.style.display =\n",
              "        google.colab.kernel.accessAllowed ? 'block' : 'none';\n",
              "\n",
              "      async function convertToInteractive(key) {\n",
              "        const element = document.querySelector('#df-9f493278-c1ad-4d82-a40c-7191487d3983');\n",
              "        const dataTable =\n",
              "          await google.colab.kernel.invokeFunction('convertToInteractive',\n",
              "                                                    [key], {});\n",
              "        if (!dataTable) return;\n",
              "\n",
              "        const docLinkHtml = 'Like what you see? Visit the ' +\n",
              "          '<a target=\"_blank\" href=https://colab.research.google.com/notebooks/data_table.ipynb>data table notebook</a>'\n",
              "          + ' to learn more about interactive tables.';\n",
              "        element.innerHTML = '';\n",
              "        dataTable['output_type'] = 'display_data';\n",
              "        await google.colab.output.renderOutput(dataTable, element);\n",
              "        const docLink = document.createElement('div');\n",
              "        docLink.innerHTML = docLinkHtml;\n",
              "        element.appendChild(docLink);\n",
              "      }\n",
              "    </script>\n",
              "  </div>\n",
              "\n",
              "\n",
              "<div id=\"df-79b73d1d-2b1b-4df3-9a7a-1bf5b2067264\">\n",
              "  <button class=\"colab-df-quickchart\" onclick=\"quickchart('df-79b73d1d-2b1b-4df3-9a7a-1bf5b2067264')\"\n",
              "            title=\"Suggest charts\"\n",
              "            style=\"display:none;\">\n",
              "\n",
              "<svg xmlns=\"http://www.w3.org/2000/svg\" height=\"24px\"viewBox=\"0 0 24 24\"\n",
              "     width=\"24px\">\n",
              "    <g>\n",
              "        <path d=\"M19 3H5c-1.1 0-2 .9-2 2v14c0 1.1.9 2 2 2h14c1.1 0 2-.9 2-2V5c0-1.1-.9-2-2-2zM9 17H7v-7h2v7zm4 0h-2V7h2v10zm4 0h-2v-4h2v4z\"/>\n",
              "    </g>\n",
              "</svg>\n",
              "  </button>\n",
              "\n",
              "<style>\n",
              "  .colab-df-quickchart {\n",
              "      --bg-color: #E8F0FE;\n",
              "      --fill-color: #1967D2;\n",
              "      --hover-bg-color: #E2EBFA;\n",
              "      --hover-fill-color: #174EA6;\n",
              "      --disabled-fill-color: #AAA;\n",
              "      --disabled-bg-color: #DDD;\n",
              "  }\n",
              "\n",
              "  [theme=dark] .colab-df-quickchart {\n",
              "      --bg-color: #3B4455;\n",
              "      --fill-color: #D2E3FC;\n",
              "      --hover-bg-color: #434B5C;\n",
              "      --hover-fill-color: #FFFFFF;\n",
              "      --disabled-bg-color: #3B4455;\n",
              "      --disabled-fill-color: #666;\n",
              "  }\n",
              "\n",
              "  .colab-df-quickchart {\n",
              "    background-color: var(--bg-color);\n",
              "    border: none;\n",
              "    border-radius: 50%;\n",
              "    cursor: pointer;\n",
              "    display: none;\n",
              "    fill: var(--fill-color);\n",
              "    height: 32px;\n",
              "    padding: 0;\n",
              "    width: 32px;\n",
              "  }\n",
              "\n",
              "  .colab-df-quickchart:hover {\n",
              "    background-color: var(--hover-bg-color);\n",
              "    box-shadow: 0 1px 2px rgba(60, 64, 67, 0.3), 0 1px 3px 1px rgba(60, 64, 67, 0.15);\n",
              "    fill: var(--button-hover-fill-color);\n",
              "  }\n",
              "\n",
              "  .colab-df-quickchart-complete:disabled,\n",
              "  .colab-df-quickchart-complete:disabled:hover {\n",
              "    background-color: var(--disabled-bg-color);\n",
              "    fill: var(--disabled-fill-color);\n",
              "    box-shadow: none;\n",
              "  }\n",
              "\n",
              "  .colab-df-spinner {\n",
              "    border: 2px solid var(--fill-color);\n",
              "    border-color: transparent;\n",
              "    border-bottom-color: var(--fill-color);\n",
              "    animation:\n",
              "      spin 1s steps(1) infinite;\n",
              "  }\n",
              "\n",
              "  @keyframes spin {\n",
              "    0% {\n",
              "      border-color: transparent;\n",
              "      border-bottom-color: var(--fill-color);\n",
              "      border-left-color: var(--fill-color);\n",
              "    }\n",
              "    20% {\n",
              "      border-color: transparent;\n",
              "      border-left-color: var(--fill-color);\n",
              "      border-top-color: var(--fill-color);\n",
              "    }\n",
              "    30% {\n",
              "      border-color: transparent;\n",
              "      border-left-color: var(--fill-color);\n",
              "      border-top-color: var(--fill-color);\n",
              "      border-right-color: var(--fill-color);\n",
              "    }\n",
              "    40% {\n",
              "      border-color: transparent;\n",
              "      border-right-color: var(--fill-color);\n",
              "      border-top-color: var(--fill-color);\n",
              "    }\n",
              "    60% {\n",
              "      border-color: transparent;\n",
              "      border-right-color: var(--fill-color);\n",
              "    }\n",
              "    80% {\n",
              "      border-color: transparent;\n",
              "      border-right-color: var(--fill-color);\n",
              "      border-bottom-color: var(--fill-color);\n",
              "    }\n",
              "    90% {\n",
              "      border-color: transparent;\n",
              "      border-bottom-color: var(--fill-color);\n",
              "    }\n",
              "  }\n",
              "</style>\n",
              "\n",
              "  <script>\n",
              "    async function quickchart(key) {\n",
              "      const quickchartButtonEl =\n",
              "        document.querySelector('#' + key + ' button');\n",
              "      quickchartButtonEl.disabled = true;  // To prevent multiple clicks.\n",
              "      quickchartButtonEl.classList.add('colab-df-spinner');\n",
              "      try {\n",
              "        const charts = await google.colab.kernel.invokeFunction(\n",
              "            'suggestCharts', [key], {});\n",
              "      } catch (error) {\n",
              "        console.error('Error during call to suggestCharts:', error);\n",
              "      }\n",
              "      quickchartButtonEl.classList.remove('colab-df-spinner');\n",
              "      quickchartButtonEl.classList.add('colab-df-quickchart-complete');\n",
              "    }\n",
              "    (() => {\n",
              "      let quickchartButtonEl =\n",
              "        document.querySelector('#df-79b73d1d-2b1b-4df3-9a7a-1bf5b2067264 button');\n",
              "      quickchartButtonEl.style.display =\n",
              "        google.colab.kernel.accessAllowed ? 'block' : 'none';\n",
              "    })();\n",
              "  </script>\n",
              "</div>\n",
              "\n",
              "    </div>\n",
              "  </div>\n"
            ],
            "application/vnd.google.colaboratory.intrinsic+json": {
              "type": "dataframe",
              "variable_name": "met_df",
              "summary": "{\n  \"name\": \"met_df\",\n  \"rows\": 61,\n  \"fields\": [\n    {\n      \"column\": \"DATE (MM/DD/YYYY)\",\n      \"properties\": {\n        \"dtype\": \"date\",\n        \"min\": \"2024-05-01 00:00:00\",\n        \"max\": \"2024-06-30 00:00:00\",\n        \"num_unique_values\": 61,\n        \"samples\": [\n          \"2024-05-01 00:00:00\",\n          \"2024-05-06 00:00:00\",\n          \"2024-06-16 00:00:00\"\n        ],\n        \"semantic_type\": \"\",\n        \"description\": \"\"\n      }\n    },\n    {\n      \"column\": \"AVG Air Temperature [deg F]\",\n      \"properties\": {\n        \"dtype\": \"number\",\n        \"std\": 6.2786334081680515,\n        \"min\": 69.9283,\n        \"max\": 94.4276,\n        \"num_unique_values\": 61,\n        \"samples\": [\n          76.2268,\n          69.9283,\n          92.8252\n        ],\n        \"semantic_type\": \"\",\n        \"description\": \"\"\n      }\n    },\n    {\n      \"column\": \"MAX Air Temperature [deg F]\",\n      \"properties\": {\n        \"dtype\": \"number\",\n        \"std\": 6.909927391613972,\n        \"min\": 80.366,\n        \"max\": 108.338,\n        \"num_unique_values\": 60,\n        \"samples\": [\n          87.494,\n          80.366,\n          108.338\n        ],\n        \"semantic_type\": \"\",\n        \"description\": \"\"\n      }\n    },\n    {\n      \"column\": \"MIN Air Temperature [deg F]\",\n      \"properties\": {\n        \"dtype\": \"number\",\n        \"std\": 7.02700893485214,\n        \"min\": 54.986,\n        \"max\": 83.732,\n        \"num_unique_values\": 60,\n        \"samples\": [\n          61.322,\n          58.838,\n          78.206\n        ],\n        \"semantic_type\": \"\",\n        \"description\": \"\"\n      }\n    },\n    {\n      \"column\": \"AVG Rel Humidity [%]\",\n      \"properties\": {\n        \"dtype\": \"number\",\n        \"std\": 11.220226851112756,\n        \"min\": 8.2824,\n        \"max\": 57.5123,\n        \"num_unique_values\": 61,\n        \"samples\": [\n          19.3349,\n          20.0174,\n          12.003\n        ],\n        \"semantic_type\": \"\",\n        \"description\": \"\"\n      }\n    },\n    {\n      \"column\": \"MAX Rel Humidity [%]\",\n      \"properties\": {\n        \"dtype\": \"number\",\n        \"std\": 17.3457848236262,\n        \"min\": 14.13,\n        \"max\": 98.4,\n        \"num_unique_values\": 61,\n        \"samples\": [\n          34.09,\n          33.99,\n          22.12\n        ],\n        \"semantic_type\": \"\",\n        \"description\": \"\"\n      }\n    },\n    {\n      \"column\": \"MIN Rel Humidity [%]\",\n      \"properties\": {\n        \"dtype\": \"number\",\n        \"std\": 5.850114462753904,\n        \"min\": 3.423,\n        \"max\": 25.13,\n        \"num_unique_values\": 60,\n        \"samples\": [\n          8.04,\n          9.31,\n          5.107\n        ],\n        \"semantic_type\": \"\",\n        \"description\": \"\"\n      }\n    },\n    {\n      \"column\": \"AVG Avg Wind Speed @ 3m [MPH]\",\n      \"properties\": {\n        \"dtype\": \"number\",\n        \"std\": 1.4857465246587385,\n        \"min\": 3.8489,\n        \"max\": 11.2813,\n        \"num_unique_values\": 61,\n        \"samples\": [\n          7.5972,\n          8.348,\n          6.0439\n        ],\n        \"semantic_type\": \"\",\n        \"description\": \"\"\n      }\n    },\n    {\n      \"column\": \"MAX Avg Wind Speed @ 3m [MPH]\",\n      \"properties\": {\n        \"dtype\": \"number\",\n        \"std\": 5.789803037900131,\n        \"min\": 15.6586,\n        \"max\": 44.3137,\n        \"num_unique_values\": 59,\n        \"samples\": [\n          24.4721,\n          22.0115,\n          20.8259\n        ],\n        \"semantic_type\": \"\",\n        \"description\": \"\"\n      }\n    },\n    {\n      \"column\": \"MIN Avg Wind Speed @ 3m [MPH]\",\n      \"properties\": {\n        \"dtype\": \"number\",\n        \"std\": 0.14520662553189734,\n        \"min\": 0.0,\n        \"max\": 1.1341,\n        \"num_unique_values\": 2,\n        \"samples\": [\n          1.1341,\n          0.0\n        ],\n        \"semantic_type\": \"\",\n        \"description\": \"\"\n      }\n    },\n    {\n      \"column\": \"AVG Peak Wind Speed @ 3m [MPH]\",\n      \"properties\": {\n        \"dtype\": \"number\",\n        \"std\": 1.962643275822468,\n        \"min\": 6.8357,\n        \"max\": 16.0872,\n        \"num_unique_values\": 61,\n        \"samples\": [\n          11.1715,\n          11.8487\n        ],\n        \"semantic_type\": \"\",\n        \"description\": \"\"\n      }\n    },\n    {\n      \"column\": \"MAX Peak Wind Speed @ 3m [MPH]\",\n      \"properties\": {\n        \"dtype\": \"number\",\n        \"std\": 7.019436033650685,\n        \"min\": 22.2575,\n        \"max\": 57.4893,\n        \"num_unique_values\": 17,\n        \"samples\": [\n          30.646,\n          27.2906\n        ],\n        \"semantic_type\": \"\",\n        \"description\": \"\"\n      }\n    },\n    {\n      \"column\": \"MIN Peak Wind Speed @ 3m [MPH]\",\n      \"properties\": {\n        \"dtype\": \"number\",\n        \"std\": 0.4868986470088167,\n        \"min\": 0.0,\n        \"max\": 3.8028,\n        \"num_unique_values\": 2,\n        \"samples\": [\n          3.8028,\n          0.0\n        ],\n        \"semantic_type\": \"\",\n        \"description\": \"\"\n      }\n    },\n    {\n      \"column\": \"AVG Station Pressure [inHg]\",\n      \"properties\": {\n        \"dtype\": \"number\",\n        \"std\": 0.04169172796044647,\n        \"min\": 27.1187,\n        \"max\": 27.3296,\n        \"num_unique_values\": 59,\n        \"samples\": [\n          27.2098,\n          27.2452\n        ],\n        \"semantic_type\": \"\",\n        \"description\": \"\"\n      }\n    },\n    {\n      \"column\": \"MAX Station Pressure [inHg]\",\n      \"properties\": {\n        \"dtype\": \"number\",\n        \"std\": 0.04134456902639264,\n        \"min\": 27.1574,\n        \"max\": 27.3713,\n        \"num_unique_values\": 59,\n        \"samples\": [\n          27.2561,\n          27.3173\n        ],\n        \"semantic_type\": \"\",\n        \"description\": \"\"\n      }\n    },\n    {\n      \"column\": \"MIN Station Pressure [inHg]\",\n      \"properties\": {\n        \"dtype\": \"number\",\n        \"std\": 0.047764704198949015,\n        \"min\": 27.0545,\n        \"max\": 27.2763,\n        \"num_unique_values\": 58,\n        \"samples\": [\n          27.1436,\n          27.2472\n        ],\n        \"semantic_type\": \"\",\n        \"description\": \"\"\n      }\n    }\n  ]\n}"
            }
          },
          "metadata": {},
          "execution_count": 10
        }
      ],
      "source": [
        "met_df.head()"
      ]
    },
    {
      "cell_type": "code",
      "execution_count": 11,
      "metadata": {
        "colab": {
          "base_uri": "https://localhost:8080/"
        },
        "id": "B2TCR9_TsWcn",
        "outputId": "8b9b13a6-8579-48e1-a19b-07c22d737b86"
      },
      "outputs": [
        {
          "output_type": "stream",
          "name": "stdout",
          "text": [
            "<class 'pandas.core.frame.DataFrame'>\n",
            "RangeIndex: 61 entries, 0 to 60\n",
            "Data columns (total 36 columns):\n",
            " #   Column                          Non-Null Count  Dtype         \n",
            "---  ------                          --------------  -----         \n",
            " 0   DATE (MM/DD/YYYY)               61 non-null     datetime64[ns]\n",
            " 1   KW                              61 non-null     float64       \n",
            " 2   KWS                             61 non-null     float64       \n",
            " 3   CHWTON                          61 non-null     float64       \n",
            " 4   HTmmBTU                         61 non-null     float64       \n",
            " 5   Combined mmBTU                  61 non-null     float64       \n",
            " 6   Combined Tons Carbon            61 non-null     float64       \n",
            " 7   KW#Houses                       61 non-null     int64         \n",
            " 8   KWlightbulbs                    61 non-null     int64         \n",
            " 9   KWgalsgas                       61 non-null     int64         \n",
            " 10  CHWTON#Houses                   61 non-null     int64         \n",
            " 11  CHWTONlightbulbs                61 non-null     int64         \n",
            " 12  CHWTONgalsgas                   61 non-null     int64         \n",
            " 13  HTmmBTU#Houses                  61 non-null     int64         \n",
            " 14  HTmmBTUlightbulbs               61 non-null     int64         \n",
            " 15  HTmmBTUgalsgas                  61 non-null     int64         \n",
            " 16  Total#Houses                    61 non-null     int64         \n",
            " 17  Totallightbulbs                 61 non-null     int64         \n",
            " 18  Totalgalsgas                    61 non-null     int64         \n",
            " 19  GHG                             61 non-null     float64       \n",
            " 20  DOW                             61 non-null     int64         \n",
            " 21  AVG Air Temperature [deg F]     61 non-null     float64       \n",
            " 22  MAX Air Temperature [deg F]     61 non-null     float64       \n",
            " 23  MIN Air Temperature [deg F]     61 non-null     float64       \n",
            " 24  AVG Rel Humidity [%]            61 non-null     float64       \n",
            " 25  MAX Rel Humidity [%]            61 non-null     float64       \n",
            " 26  MIN Rel Humidity [%]            61 non-null     float64       \n",
            " 27  AVG Avg Wind Speed @ 3m [MPH]   61 non-null     float64       \n",
            " 28  MAX Avg Wind Speed @ 3m [MPH]   61 non-null     float64       \n",
            " 29  MIN Avg Wind Speed @ 3m [MPH]   61 non-null     float64       \n",
            " 30  AVG Peak Wind Speed @ 3m [MPH]  61 non-null     float64       \n",
            " 31  MAX Peak Wind Speed @ 3m [MPH]  61 non-null     float64       \n",
            " 32  MIN Peak Wind Speed @ 3m [MPH]  61 non-null     float64       \n",
            " 33  AVG Station Pressure [inHg]     61 non-null     float64       \n",
            " 34  MAX Station Pressure [inHg]     61 non-null     float64       \n",
            " 35  MIN Station Pressure [inHg]     61 non-null     float64       \n",
            "dtypes: datetime64[ns](1), float64(22), int64(13)\n",
            "memory usage: 17.3 KB\n"
          ]
        }
      ],
      "source": [
        "# Join both dataset on Date\n",
        "merged_df = pd.merge(load_df, met_df, on=\"DATE (MM/DD/YYYY)\", how=\"inner\")\n",
        "merged_df.info()"
      ]
    },
    {
      "cell_type": "code",
      "execution_count": 12,
      "metadata": {
        "id": "MxD0p322sWcn"
      },
      "outputs": [],
      "source": [
        "# Corr. between columns with KW column\n",
        "# corr_matrix = merged_df.corr()\n",
        "# print(corr_matrix[\"KW\"].sort_values(ascending=False))"
      ]
    },
    {
      "cell_type": "markdown",
      "metadata": {
        "id": "iCBgIlprsWcn"
      },
      "source": [
        "# Dataset Processing"
      ]
    },
    {
      "cell_type": "markdown",
      "metadata": {
        "id": "e-4qdm0IsWco"
      },
      "source": [
        "#### Step 1: Select relevant columns for normalization"
      ]
    },
    {
      "cell_type": "code",
      "execution_count": 13,
      "metadata": {
        "id": "5tVplfx2sWco"
      },
      "outputs": [],
      "source": [
        "features_to_normalize = [\n",
        "    \"KW\",\n",
        "    \"GHG\",\n",
        "    \"AVG Air Temperature [deg F]\",\n",
        "    \"AVG Rel Humidity [%]\",\n",
        "    \"AVG Avg Wind Speed @ 3m [MPH]\",\n",
        "]"
      ]
    },
    {
      "cell_type": "code",
      "execution_count": 14,
      "metadata": {
        "id": "BuiegOqbsWco"
      },
      "outputs": [],
      "source": [
        "model_df = merged_df[features_to_normalize]"
      ]
    },
    {
      "cell_type": "code",
      "execution_count": 15,
      "metadata": {
        "colab": {
          "base_uri": "https://localhost:8080/"
        },
        "id": "16eDwQ2LsWcp",
        "outputId": "2f8df20e-4754-40b9-886a-61a48403eb41"
      },
      "outputs": [
        {
          "output_type": "stream",
          "name": "stdout",
          "text": [
            "KW                               1.000000\n",
            "GHG                              0.986451\n",
            "AVG Air Temperature [deg F]      0.446496\n",
            "AVG Rel Humidity [%]             0.419901\n",
            "AVG Avg Wind Speed @ 3m [MPH]   -0.276237\n",
            "Name: KW, dtype: float64\n"
          ]
        }
      ],
      "source": [
        "corr_matrix = model_df.corr()\n",
        "print(corr_matrix[\"KW\"].sort_values(ascending=False))"
      ]
    },
    {
      "cell_type": "code",
      "execution_count": 16,
      "metadata": {
        "id": "JJZxxjaHsWcp"
      },
      "outputs": [],
      "source": [
        "cols = [\n",
        "    \"KW\",\n",
        "    \"GHG\",\n",
        "    \"AVG Temp\",\n",
        "    \"AVG Humidity\",\n",
        "    \"AVG Wind \",\n",
        "]"
      ]
    },
    {
      "cell_type": "code",
      "execution_count": 17,
      "metadata": {
        "colab": {
          "base_uri": "https://localhost:8080/",
          "height": 487
        },
        "id": "a22frZ2msWcp",
        "outputId": "6f4c8e95-3d83-4dc3-da1f-c60ffb65aa62"
      },
      "outputs": [
        {
          "output_type": "display_data",
          "data": {
            "text/plain": [
              "<Figure size 640x480 with 2 Axes>"
            ],
            "image/png": "[encoded data removed]"
          },
          "metadata": {}
        }
      ],
      "source": [
        "# Create the heatmap using Matplotlib\n",
        "# plt.figure(figsize=(8, 6))\n",
        "plt.imshow(corr_matrix, cmap=\"winter\", vmin=-1, vmax=1)\n",
        "plt.colorbar()\n",
        "\n",
        "# Adding title\n",
        "plt.title(\"Correlation Matrix with 'KW'\")\n",
        "# Set tick labels\n",
        "plt.xticks(range(len(corr_matrix.columns)), cols, rotation=90)\n",
        "plt.yticks(range(len(corr_matrix.columns)), cols)\n",
        "\n",
        "# Display the plot\n",
        "plt.tight_layout()\n",
        "plt.show()"
      ]
    },
    {
      "cell_type": "markdown",
      "metadata": {
        "id": "aA4YxzgzsWcp"
      },
      "source": [
        "**KW:**\n",
        "   - **Description:** The total kilowatt (KW) power consumption for the day.\n",
        "   - **Example:** `351973.45` KW represents the total power consumption on the given day.\n",
        "\n",
        "**GHG:**\n",
        "   - **Description:** Greenhouse gas emissions.\n",
        "   - **Example:** `169.754` represents the greenhouse gas emissions.\n",
        "\n",
        "**AVG Air Temperature [deg F]:**\n",
        "   - **Description:** The average air temperature in degrees Fahrenheit for the day.\n",
        "   - **Example:** `76.2268` degrees Fahrenheit.\n",
        "\n",
        "**AVG Rel Humidity [%]:**\n",
        "   - **Description:** The average relative humidity as a percentage for the day.\n",
        "   - **Example:** `19.3349%`.\n",
        "\n",
        "**AVG Avg Wind Speed @ 3m [MPH]:**\n",
        "   - **Description:** The average wind speed at 3 meters above ground level in miles per hour for the day.\n",
        "   - **Example:** `7.5972` miles per hour."
      ]
    },
    {
      "cell_type": "markdown",
      "metadata": {
        "id": "pWw3CTQfsWcq"
      },
      "source": [
        "#### Step 2: Train-Test Split (80% training, 20% testing)"
      ]
    },
    {
      "cell_type": "code",
      "execution_count": 18,
      "metadata": {
        "id": "3hvdvtZOsWcq"
      },
      "outputs": [],
      "source": [
        "train_size = int(len(model_df) * 0.8)\n",
        "train_data = model_df[:train_size]\n",
        "test_data = model_df[train_size:]"
      ]
    },
    {
      "cell_type": "code",
      "execution_count": 19,
      "metadata": {
        "id": "RpSub-FgsWcq"
      },
      "outputs": [],
      "source": [
        "scaler = MinMaxScaler()"
      ]
    },
    {
      "cell_type": "code",
      "execution_count": 20,
      "metadata": {
        "id": "V8GTSlEJsWcq"
      },
      "outputs": [],
      "source": [
        "train_scaled = train_data.copy()\n",
        "train_scaled[features_to_normalize] = scaler.fit_transform(\n",
        "    train_data[features_to_normalize]\n",
        ")\n",
        "\n",
        "test_scaled = test_data.copy()\n",
        "test_scaled[features_to_normalize] = scaler.transform(test_data[features_to_normalize])"
      ]
    },
    {
      "cell_type": "markdown",
      "metadata": {
        "id": "OT7e2uBgsWcr"
      },
      "source": [
        "#### Step 3: Time Series Preparation (Create sliding window sequences)"
      ]
    },
    {
      "cell_type": "code",
      "execution_count": 21,
      "metadata": {
        "id": "_ZCoHDIisWcr"
      },
      "outputs": [],
      "source": [
        "sequence_length = 8  # Use past 8 days to predict the next day\n",
        "\n",
        "def create_sequences(data, target_column, sequence_length):\n",
        "    sequences = []\n",
        "    targets = []\n",
        "\n",
        "    for i in range(len(data) - sequence_length):\n",
        "        seq = data[i : i + sequence_length]  # Sequence of 'n' days\n",
        "        target = data[i + sequence_length][\n",
        "            target_column + 1\n",
        "        ]  # Target is the next day's load (KW)\n",
        "        sequences.append(seq)\n",
        "        targets.append(target)\n",
        "\n",
        "    return np.array(sequences), np.array(targets)"
      ]
    },
    {
      "cell_type": "markdown",
      "metadata": {
        "id": "yRntw6tEsWcr"
      },
      "source": [
        "Create sequences for training and testing sets"
      ]
    },
    {
      "cell_type": "code",
      "execution_count": 22,
      "metadata": {
        "colab": {
          "base_uri": "https://localhost:8080/"
        },
        "id": "-0D1OpkvsWcr",
        "outputId": "b65c33c6-132e-4082-cd74-ac7ec8b6359a"
      },
      "outputs": [
        {
          "output_type": "stream",
          "name": "stdout",
          "text": [
            "Training data shape (X, y): (40, 8, 5) (40,)\n",
            "Testing data shape (X, y): (5, 8, 5) (5,)\n"
          ]
        }
      ],
      "source": [
        "X_train, y_train = create_sequences(\n",
        "    train_scaled[features_to_normalize].values,\n",
        "    target_column=0,\n",
        "    sequence_length=sequence_length,\n",
        ")  # KW is the target\n",
        "X_test, y_test = create_sequences(\n",
        "    test_scaled[features_to_normalize].values,\n",
        "    target_column=0,\n",
        "    sequence_length=sequence_length,\n",
        ")\n",
        "\n",
        "# Print the shape of training and testing data\n",
        "print(\"Training data shape (X, y):\", X_train.shape, y_train.shape)\n",
        "print(\"Testing data shape (X, y):\", X_test.shape, y_test.shape)"
      ]
    },
    {
      "cell_type": "markdown",
      "metadata": {
        "id": "cK2586HDsWcs"
      },
      "source": [
        "# Model Construction"
      ]
    },
    {
      "cell_type": "markdown",
      "metadata": {
        "id": "R7S12LugsWcs"
      },
      "source": [
        "#### Step 1: Convert data to PyTorch tensors"
      ]
    },
    {
      "cell_type": "code",
      "execution_count": 23,
      "metadata": {
        "id": "bH5phLS6sWcs"
      },
      "outputs": [],
      "source": [
        "X_train_tensor = torch.Tensor(X_train)\n",
        "y_train_tensor = torch.Tensor(y_train)\n",
        "X_test_tensor = torch.Tensor(X_test)\n",
        "y_test_tensor = torch.Tensor(y_test)"
      ]
    },
    {
      "cell_type": "markdown",
      "metadata": {
        "id": "0x-TwE-csWcs"
      },
      "source": [
        "#### Step 2: Define the LSTM model"
      ]
    },
    {
      "cell_type": "markdown",
      "metadata": {
        "id": "jqmKc1PbsWcs"
      },
      "source": [
        "Define the LSTM model with L2 regularization"
      ]
    },
    {
      "cell_type": "code",
      "execution_count": 24,
      "metadata": {
        "id": "1b_ams8qsWcs"
      },
      "outputs": [],
      "source": [
        "class LSTMModel(nn.Module):\n",
        "    def __init__(self, input_dim, hidden_dim, output_dim, num_layers=2, dropout=0.2):\n",
        "        super(LSTMModel, self).__init__()\n",
        "        self.lstm = nn.LSTM(\n",
        "            input_dim, hidden_dim, num_layers, batch_first=True, dropout=dropout\n",
        "        )\n",
        "        self.fc = nn.Linear(hidden_dim, output_dim)\n",
        "\n",
        "    def forward(self, x):\n",
        "        lstm_out, _ = self.lstm(x)\n",
        "        final_feature_map = lstm_out[:, -1, :]\n",
        "        out = self.fc(final_feature_map)\n",
        "        return out"
      ]
    },
    {
      "cell_type": "code",
      "execution_count": 25,
      "metadata": {
        "id": "Yprdo7CqsWct"
      },
      "outputs": [],
      "source": [
        "# Initialize model, loss function, and optimizer with L2 regularization\n",
        "input_dim = len(features_to_normalize)\n",
        "hidden_dim = 64\n",
        "output_dim = 1\n",
        "dropout = 0.1"
      ]
    },
    {
      "cell_type": "code",
      "execution_count": 26,
      "metadata": {
        "colab": {
          "base_uri": "https://localhost:8080/"
        },
        "id": "Eg6oFf3EsWct",
        "outputId": "db8a42e6-9c71-4a7b-d165-10d7f9da0f68"
      },
      "outputs": [
        {
          "output_type": "execute_result",
          "data": {
            "text/plain": [
              "tensor(0.)"
            ]
          },
          "metadata": {},
          "execution_count": 26
        }
      ],
      "source": [
        "model = LSTMModel(input_dim, hidden_dim, output_dim, num_layers=4, dropout=dropout)\n",
        "criterion = nn.MSELoss()\n",
        "optimizer = optim.Adam(\n",
        "    model.parameters(), lr=0.0005, weight_decay=0.001\n",
        ")  # Adding L2 regularization\n",
        "scheduler = ReduceLROnPlateau(\n",
        "    optimizer,\n",
        "    mode=\"min\",\n",
        "    factor=0.1,\n",
        "    patience=20,\n",
        ")\n",
        "torch.nn.utils.clip_grad_norm_(model.parameters(), max_norm=7)"
      ]
    },
    {
      "cell_type": "markdown",
      "metadata": {
        "id": "Y_e6baSDsWct"
      },
      "source": [
        "#### Step 3: Training loop"
      ]
    },
    {
      "cell_type": "code",
      "execution_count": 27,
      "metadata": {
        "id": "JUMEGAcZsWct"
      },
      "outputs": [],
      "source": [
        "num_epochs = 80\n",
        "batch_size = 32\n",
        "patience = 20\n",
        "best_loss = float(\"inf\")\n",
        "patience_counter = 0"
      ]
    },
    {
      "cell_type": "code",
      "execution_count": 28,
      "metadata": {
        "id": "qevI5oj6sWct"
      },
      "outputs": [],
      "source": [
        "# Create DataLoader for training and validation data\n",
        "train_dataset = torch.utils.data.TensorDataset(X_train_tensor, y_train_tensor)\n",
        "train_loader = torch.utils.data.DataLoader(\n",
        "    dataset=train_dataset, batch_size=batch_size, shuffle=True\n",
        ")"
      ]
    },
    {
      "cell_type": "code",
      "execution_count": 29,
      "metadata": {
        "id": "zwPfBbh2sWct"
      },
      "outputs": [],
      "source": [
        "# Keep track of loss\n",
        "epoch_losses = list()\n",
        "test_losses = list()"
      ]
    },
    {
      "cell_type": "code",
      "execution_count": 30,
      "metadata": {
        "colab": {
          "base_uri": "https://localhost:8080/"
        },
        "id": "wHxPb_5zsWct",
        "outputId": "b86dbf28-871b-4ccf-e8a5-4e88170d522d"
      },
      "outputs": [
        {
          "output_type": "stream",
          "name": "stdout",
          "text": [
            "Epoch [1/80], Loss: 0.4329\n",
            "Test Loss: 0.2581\n",
            "Epoch [2/80], Loss: 0.4061\n",
            "Test Loss: 0.2348\n",
            "Epoch [3/80], Loss: 0.3778\n",
            "Test Loss: 0.2122\n",
            "Epoch [4/80], Loss: 0.3524\n",
            "Test Loss: 0.1899\n",
            "Epoch [5/80], Loss: 0.3267\n",
            "Test Loss: 0.1677\n",
            "Epoch [6/80], Loss: 0.3001\n",
            "Test Loss: 0.1449\n",
            "Epoch [7/80], Loss: 0.2731\n",
            "Test Loss: 0.1217\n",
            "Epoch [8/80], Loss: 0.2444\n",
            "Test Loss: 0.0978\n",
            "Epoch [9/80], Loss: 0.2150\n",
            "Test Loss: 0.0733\n",
            "Epoch [10/80], Loss: 0.1826\n",
            "Test Loss: 0.0490\n",
            "Epoch [11/80], Loss: 0.1524\n",
            "Test Loss: 0.0274\n",
            "Epoch [12/80], Loss: 0.1200\n",
            "Test Loss: 0.0130\n",
            "Epoch [13/80], Loss: 0.0878\n",
            "Test Loss: 0.0130\n",
            "Epoch [14/80], Loss: 0.0735\n",
            "Test Loss: 0.0348\n",
            "Epoch [15/80], Loss: 0.0695\n",
            "Test Loss: 0.0649\n",
            "Epoch [16/80], Loss: 0.0791\n",
            "Test Loss: 0.0764\n",
            "Epoch [17/80], Loss: 0.0841\n",
            "Test Loss: 0.0660\n",
            "Epoch [18/80], Loss: 0.0789\n",
            "Test Loss: 0.0469\n",
            "Epoch [19/80], Loss: 0.0727\n",
            "Test Loss: 0.0302\n",
            "Epoch [20/80], Loss: 0.0709\n",
            "Test Loss: 0.0213\n",
            "Epoch [21/80], Loss: 0.0677\n",
            "Test Loss: 0.0172\n",
            "Epoch [22/80], Loss: 0.0689\n",
            "Test Loss: 0.0145\n",
            "Epoch [23/80], Loss: 0.0702\n",
            "Test Loss: 0.0130\n",
            "Epoch [24/80], Loss: 0.0683\n",
            "Test Loss: 0.0127\n",
            "Epoch [25/80], Loss: 0.0694\n",
            "Test Loss: 0.0130\n",
            "Epoch [26/80], Loss: 0.0696\n",
            "Test Loss: 0.0143\n",
            "Epoch [27/80], Loss: 0.0666\n",
            "Test Loss: 0.0168\n",
            "Epoch [28/80], Loss: 0.0675\n",
            "Test Loss: 0.0198\n",
            "Epoch [29/80], Loss: 0.0679\n",
            "Test Loss: 0.0223\n",
            "Epoch [30/80], Loss: 0.0653\n",
            "Test Loss: 0.0244\n",
            "Epoch [31/80], Loss: 0.0674\n",
            "Test Loss: 0.0246\n",
            "Epoch [32/80], Loss: 0.0679\n",
            "Test Loss: 0.0244\n",
            "Epoch [33/80], Loss: 0.0678\n",
            "Test Loss: 0.0242\n",
            "Epoch [34/80], Loss: 0.0665\n",
            "Test Loss: 0.0220\n",
            "Epoch [35/80], Loss: 0.0658\n",
            "Test Loss: 0.0193\n",
            "Epoch [36/80], Loss: 0.0676\n",
            "Test Loss: 0.0170\n",
            "Epoch [37/80], Loss: 0.0685\n",
            "Test Loss: 0.0158\n",
            "Epoch [38/80], Loss: 0.0672\n",
            "Test Loss: 0.0156\n",
            "Epoch [39/80], Loss: 0.0689\n",
            "Test Loss: 0.0158\n",
            "Epoch [40/80], Loss: 0.0695\n",
            "Test Loss: 0.0160\n",
            "Epoch [41/80], Loss: 0.0680\n",
            "Test Loss: 0.0162\n",
            "Epoch [42/80], Loss: 0.0682\n",
            "Test Loss: 0.0163\n",
            "Epoch [43/80], Loss: 0.0663\n",
            "Test Loss: 0.0156\n",
            "Epoch [44/80], Loss: 0.0683\n",
            "Test Loss: 0.0152\n",
            "Epoch [45/80], Loss: 0.0662\n",
            "Test Loss: 0.0156\n",
            "Epoch [46/80], Loss: 0.0678\n",
            "Test Loss: 0.0165\n",
            "Epoch [47/80], Loss: 0.0662\n",
            "Test Loss: 0.0164\n",
            "Epoch [48/80], Loss: 0.0662\n",
            "Test Loss: 0.0164\n",
            "Epoch [49/80], Loss: 0.0662\n",
            "Test Loss: 0.0167\n",
            "Epoch [50/80], Loss: 0.0657\n",
            "Test Loss: 0.0181\n",
            "Epoch [51/80], Loss: 0.0653\n",
            "Test Loss: 0.0205\n",
            "Epoch [52/80], Loss: 0.0648\n",
            "Test Loss: 0.0227\n",
            "Epoch [53/80], Loss: 0.0661\n",
            "Test Loss: 0.0239\n",
            "Epoch [54/80], Loss: 0.0656\n",
            "Test Loss: 0.0228\n",
            "Epoch [55/80], Loss: 0.0666\n",
            "Test Loss: 0.0210\n",
            "Epoch [56/80], Loss: 0.0659\n",
            "Test Loss: 0.0202\n",
            "Epoch [57/80], Loss: 0.0661\n",
            "Test Loss: 0.0201\n",
            "Epoch [58/80], Loss: 0.0648\n",
            "Test Loss: 0.0193\n",
            "Epoch [59/80], Loss: 0.0663\n",
            "Test Loss: 0.0164\n",
            "Epoch [60/80], Loss: 0.0651\n",
            "Test Loss: 0.0138\n",
            "Epoch [61/80], Loss: 0.0636\n",
            "Test Loss: 0.0132\n",
            "Epoch [62/80], Loss: 0.0653\n",
            "Test Loss: 0.0138\n",
            "Epoch [63/80], Loss: 0.0666\n",
            "Test Loss: 0.0157\n",
            "Epoch [64/80], Loss: 0.0644\n",
            "Test Loss: 0.0181\n",
            "Epoch [65/80], Loss: 0.0639\n",
            "Test Loss: 0.0202\n",
            "Epoch [66/80], Loss: 0.0639\n",
            "Test Loss: 0.0206\n",
            "Epoch [67/80], Loss: 0.0650\n",
            "Test Loss: 0.0199\n",
            "Epoch [68/80], Loss: 0.0653\n",
            "Test Loss: 0.0183\n",
            "Epoch [69/80], Loss: 0.0677\n",
            "Test Loss: 0.0162\n",
            "Epoch [70/80], Loss: 0.0639\n",
            "Test Loss: 0.0159\n",
            "Epoch [71/80], Loss: 0.0624\n",
            "Test Loss: 0.0158\n",
            "Epoch [72/80], Loss: 0.0640\n",
            "Test Loss: 0.0172\n",
            "Epoch [73/80], Loss: 0.0644\n",
            "Test Loss: 0.0186\n",
            "Epoch [74/80], Loss: 0.0637\n",
            "Test Loss: 0.0184\n",
            "Epoch [75/80], Loss: 0.0635\n",
            "Test Loss: 0.0155\n",
            "Epoch [76/80], Loss: 0.0624\n",
            "Test Loss: 0.0122\n",
            "Epoch [77/80], Loss: 0.0641\n",
            "Test Loss: 0.0103\n",
            "Epoch [78/80], Loss: 0.0624\n",
            "Test Loss: 0.0096\n",
            "Epoch [79/80], Loss: 0.0652\n",
            "Test Loss: 0.0094\n",
            "Epoch [80/80], Loss: 0.0638\n",
            "Test Loss: 0.0095\n"
          ]
        }
      ],
      "source": [
        "for epoch in range(num_epochs):\n",
        "    model.train()\n",
        "    epoch_loss = 0\n",
        "\n",
        "    for batch_X, batch_y in train_loader:\n",
        "        outputs = model(batch_X)\n",
        "        loss = criterion(outputs.squeeze(), batch_y)\n",
        "\n",
        "        optimizer.zero_grad()\n",
        "        loss.backward()\n",
        "        optimizer.step()\n",
        "\n",
        "        epoch_loss += loss.item() * batch_X.size(0)\n",
        "\n",
        "    avg_epoch_loss = epoch_loss / len(train_loader.dataset)\n",
        "    epoch_losses.append(avg_epoch_loss)\n",
        "    print(f\"Epoch [{epoch + 1}/{num_epochs}], Loss: {avg_epoch_loss:.4f}\")\n",
        "\n",
        "    # Validation phase\n",
        "    model.eval()\n",
        "    with torch.no_grad():\n",
        "        test_outputs = model(X_test_tensor)\n",
        "        test_loss = mean_squared_error(y_test_tensor, test_outputs.squeeze())\n",
        "        test_losses.append(test_loss)\n",
        "        print(f\"Test Loss: {test_loss:.4f}\")"
      ]
    },
    {
      "cell_type": "markdown",
      "metadata": {
        "id": "Z24OWm97sWcu"
      },
      "source": [
        "#### Step 4: Check Training Process"
      ]
    },
    {
      "cell_type": "code",
      "execution_count": 31,
      "metadata": {
        "colab": {
          "base_uri": "https://localhost:8080/"
        },
        "id": "YvV7knBTsWcu",
        "outputId": "def7b29f-16cc-476e-bd70-f15391ff0dfe"
      },
      "outputs": [
        {
          "output_type": "stream",
          "name": "stdout",
          "text": [
            "Epoch\t\tMin: 0.0624\t Max: 0.4329\n",
            "Test\t\tMin: 0.0094\t Max: 0.2581\n"
          ]
        }
      ],
      "source": [
        "# Loss value tracking\n",
        "print(f\"Epoch\\t\\tMin: {min(epoch_losses):.4f}\\t Max: {max(epoch_losses):.4f}\")\n",
        "print(f\"Test\\t\\tMin: {min(test_losses):.4f}\\t Max: {max(test_losses):.4f}\")"
      ]
    },
    {
      "cell_type": "code",
      "execution_count": 32,
      "metadata": {
        "colab": {
          "base_uri": "https://localhost:8080/",
          "height": 316
        },
        "id": "zEa9o6aWsWcy",
        "outputId": "e8d029e4-aa43-4790-f7f4-ed5cb683f61d"
      },
      "outputs": [
        {
          "output_type": "display_data",
          "data": {
            "text/plain": [
              "<Figure size 1000x300 with 2 Axes>"
            ],
            "image/png": "[encoded data removed]"
          },
          "metadata": {}
        }
      ],
      "source": [
        "# Plot training & validation loss values\n",
        "plt.figure(figsize=(10, 3))\n",
        "plt.suptitle(\"Loss over the Epoch\")\n",
        "\n",
        "plt.subplot(1, 2, 1)\n",
        "plt.plot(np.array(epoch_losses), color=\"orange\", alpha=0.7)\n",
        "plt.ylabel(\"Epoch Loss\")\n",
        "plt.xlabel(\"Epoch\")\n",
        "plt.legend([\"Epoch Loss\"], loc=\"upper right\")\n",
        "plt.grid(True)\n",
        "\n",
        "plt.subplot(1, 2, 2)\n",
        "plt.plot(np.array(test_losses), color=\"magenta\", alpha=0.7)\n",
        "plt.ylabel(\"Test Loss\")\n",
        "plt.xlabel(\"Epoch\")\n",
        "plt.legend([\"Test Loss\"], loc=\"upper right\")\n",
        "plt.grid(True)\n",
        "plt.tight_layout()\n",
        "\n",
        "plt.show()"
      ]
    },
    {
      "cell_type": "markdown",
      "metadata": {
        "id": "ZYKVriKDsWcz"
      },
      "source": [
        "# Model Evaluation"
      ]
    },
    {
      "cell_type": "code",
      "execution_count": 33,
      "metadata": {
        "colab": {
          "base_uri": "https://localhost:8080/"
        },
        "id": "EPQ8nQRHsWcz",
        "outputId": "57f91fca-3d30-4d74-9ca5-498f7ec6e405"
      },
      "outputs": [
        {
          "output_type": "stream",
          "name": "stdout",
          "text": [
            "Device: cuda\n"
          ]
        }
      ],
      "source": [
        "# Check if a GPU is available and set the device accordingly\n",
        "device = torch.device(\"cuda\" if torch.cuda.is_available() else \"cpu\")\n",
        "print(f\"Device: {device}\")"
      ]
    },
    {
      "cell_type": "code",
      "source": [
        "print(X_test_tensor)\n"
      ],
      "metadata": {
        "colab": {
          "base_uri": "https://localhost:8080/"
        },
        "id": "b98FIoDzvtfV",
        "outputId": "83f79339-09c1-428f-858d-d164484d3d3c"
      },
      "execution_count": 35,
      "outputs": [
        {
          "output_type": "stream",
          "name": "stdout",
          "text": [
            "tensor([[[ 0.7825,  0.7677,  0.7931,  0.5061,  0.5475],\n",
            "         [ 0.8185,  0.8025,  0.8591,  0.7776,  0.2969],\n",
            "         [ 1.0124,  1.0314,  0.9162,  1.2711,  0.3024],\n",
            "         [ 1.2990,  1.2891,  0.8836,  2.0647,  0.4810],\n",
            "         [ 1.2830,  1.4737,  0.5366,  4.1951, -0.0550],\n",
            "         [ 1.2313,  1.3272,  0.6981,  3.7691,  0.1572],\n",
            "         [ 1.5695,  1.5662,  0.7915,  2.8395,  0.0370],\n",
            "         [ 1.0011,  1.1202,  0.7858,  2.9487,  0.1869]],\n",
            "\n",
            "        [[ 0.8185,  0.8025,  0.8591,  0.7776,  0.2969],\n",
            "         [ 1.0124,  1.0314,  0.9162,  1.2711,  0.3024],\n",
            "         [ 1.2990,  1.2891,  0.8836,  2.0647,  0.4810],\n",
            "         [ 1.2830,  1.4737,  0.5366,  4.1951, -0.0550],\n",
            "         [ 1.2313,  1.3272,  0.6981,  3.7691,  0.1572],\n",
            "         [ 1.5695,  1.5662,  0.7915,  2.8395,  0.0370],\n",
            "         [ 1.0011,  1.1202,  0.7858,  2.9487,  0.1869],\n",
            "         [ 0.5556,  0.5637,  0.9427,  2.2362,  0.5225]],\n",
            "\n",
            "        [[ 1.0124,  1.0314,  0.9162,  1.2711,  0.3024],\n",
            "         [ 1.2990,  1.2891,  0.8836,  2.0647,  0.4810],\n",
            "         [ 1.2830,  1.4737,  0.5366,  4.1951, -0.0550],\n",
            "         [ 1.2313,  1.3272,  0.6981,  3.7691,  0.1572],\n",
            "         [ 1.5695,  1.5662,  0.7915,  2.8395,  0.0370],\n",
            "         [ 1.0011,  1.1202,  0.7858,  2.9487,  0.1869],\n",
            "         [ 0.5556,  0.5637,  0.9427,  2.2362,  0.5225],\n",
            "         [ 0.5702,  0.5816,  1.0237,  1.7528,  0.4650]],\n",
            "\n",
            "        [[ 1.2990,  1.2891,  0.8836,  2.0647,  0.4810],\n",
            "         [ 1.2830,  1.4737,  0.5366,  4.1951, -0.0550],\n",
            "         [ 1.2313,  1.3272,  0.6981,  3.7691,  0.1572],\n",
            "         [ 1.5695,  1.5662,  0.7915,  2.8395,  0.0370],\n",
            "         [ 1.0011,  1.1202,  0.7858,  2.9487,  0.1869],\n",
            "         [ 0.5556,  0.5637,  0.9427,  2.2362,  0.5225],\n",
            "         [ 0.5702,  0.5816,  1.0237,  1.7528,  0.4650],\n",
            "         [ 0.2533,  0.3023,  0.7563,  2.8039,  0.2629]],\n",
            "\n",
            "        [[ 1.2830,  1.4737,  0.5366,  4.1951, -0.0550],\n",
            "         [ 1.2313,  1.3272,  0.6981,  3.7691,  0.1572],\n",
            "         [ 1.5695,  1.5662,  0.7915,  2.8395,  0.0370],\n",
            "         [ 1.0011,  1.1202,  0.7858,  2.9487,  0.1869],\n",
            "         [ 0.5556,  0.5637,  0.9427,  2.2362,  0.5225],\n",
            "         [ 0.5702,  0.5816,  1.0237,  1.7528,  0.4650],\n",
            "         [ 0.2533,  0.3023,  0.7563,  2.8039,  0.2629],\n",
            "         [ 0.5029,  0.5366,  0.7443,  2.8880,  0.2845]]])\n"
          ]
        }
      ]
    },
    {
      "cell_type": "code",
      "source": [
        "device = torch.device(\"cuda\" if torch.cuda.is_available() else \"cpu\")\n"
      ],
      "metadata": {
        "id": "OCtoWijev7Lh"
      },
      "execution_count": 37,
      "outputs": []
    },
    {
      "cell_type": "code",
      "source": [
        "model.to(device)\n"
      ],
      "metadata": {
        "colab": {
          "base_uri": "https://localhost:8080/"
        },
        "id": "Up4DmJcTv-fF",
        "outputId": "e27ac060-f904-43d2-a929-8a19ade8a304"
      },
      "execution_count": 39,
      "outputs": [
        {
          "output_type": "execute_result",
          "data": {
            "text/plain": [
              "LSTMModel(\n",
              "  (lstm): LSTM(5, 64, num_layers=4, batch_first=True, dropout=0.1)\n",
              "  (fc): Linear(in_features=64, out_features=1, bias=True)\n",
              ")"
            ]
          },
          "metadata": {},
          "execution_count": 39
        }
      ]
    },
    {
      "cell_type": "code",
      "source": [
        "X_test_tensor = X_test_tensor.to(device)\n"
      ],
      "metadata": {
        "id": "xmjZfGVywBC1"
      },
      "execution_count": 40,
      "outputs": []
    },
    {
      "cell_type": "code",
      "execution_count": 41,
      "metadata": {
        "id": "-37nLnd7sWcz"
      },
      "outputs": [],
      "source": [
        "# Set the model to evaluation mode\n",
        "model.eval()\n",
        "\n",
        "# Generate predictions\n",
        "with torch.no_grad():\n",
        "    y_pred = model(X_test_tensor.to(device))\n",
        "\n",
        "# Move predictions and actual values to CPU and detach them from the computation graph\n",
        "y_pred = y_pred.cpu().detach().numpy()\n",
        "y_test_np = y_test_tensor.cpu().numpy()"
      ]
    },
    {
      "cell_type": "code",
      "execution_count": 42,
      "metadata": {
        "id": "qRKp0_XFsWcz"
      },
      "outputs": [],
      "source": [
        "# Inverse transform the predictions and actual values\n",
        "y_pred_inverse = scaler.inverse_transform(\n",
        "    np.concatenate(\n",
        "        [y_pred, np.zeros((y_pred.shape[0], len(features_to_normalize) - 1))], axis=1\n",
        "    )\n",
        ")[\n",
        "    :, 0\n",
        "]  # Only reverse the first column which is KW\n",
        "\n",
        "y_test_inverse = scaler.inverse_transform(\n",
        "    np.concatenate(\n",
        "        [\n",
        "            y_test_np.reshape(-1, 1),\n",
        "            np.zeros((y_test_np.shape[0], len(features_to_normalize) - 1)),\n",
        "        ],\n",
        "        axis=1,\n",
        "    )\n",
        ")[\n",
        "    :, 0\n",
        "]  # Only reverse the first column which is KW"
      ]
    },
    {
      "cell_type": "code",
      "execution_count": 43,
      "metadata": {
        "colab": {
          "base_uri": "https://localhost:8080/"
        },
        "id": "kYIz5ig-sWcz",
        "outputId": "3eebcdec-8b3d-4382-cf83-efc844587792"
      },
      "outputs": [
        {
          "output_type": "stream",
          "name": "stdout",
          "text": [
            "MAPE: 2.15%\n",
            "RMSE: 9676.61 KW\n"
          ]
        }
      ],
      "source": [
        "# Define MAPE and RMSE functions\n",
        "def MAPE(y_true, y_pred):\n",
        "    return np.mean(np.abs((y_true - y_pred) / y_true)) * 100\n",
        "\n",
        "def RMSE(y_true, y_pred):\n",
        "    return np.sqrt(np.mean((y_true - y_pred) ** 2))\n",
        "\n",
        "# Calculate MAPE and RMSE\n",
        "mape_value = MAPE(y_test_inverse, y_pred_inverse)\n",
        "rmse_value = RMSE(y_test_inverse, y_pred_inverse)\n",
        "\n",
        "print(f\"MAPE: {mape_value:.2f}%\")\n",
        "print(f\"RMSE: {rmse_value:.2f} KW\")"
      ]
    },
    {
      "cell_type": "code",
      "source": [],
      "metadata": {
        "id": "90u2kx09DywZ"
      },
      "execution_count": null,
      "outputs": []
    },
    {
      "cell_type": "code",
      "execution_count": 44,
      "metadata": {
        "colab": {
          "base_uri": "https://localhost:8080/"
        },
        "id": "FC70UiFIsWcz",
        "outputId": "a3cf9eb0-0d60-41a1-e287-a6dc86fd464f"
      },
      "outputs": [
        {
          "output_type": "stream",
          "name": "stdout",
          "text": [
            "Actual:\t\t344308.41\t346086.61\t318328.18\t341616.68\t334400.75\t\n",
            "Predicted:\t341244.19\t339593.10\t338099.92\t336679.76\t335555.74\t\n",
            "-----------------------------------------------------------------------------------------\n",
            "Difference:\t3064.21\t6493.51\t-19771.73\t4936.92\t-1154.98\t"
          ]
        }
      ],
      "source": [
        "print(\"Actual:\\t\\t\", end=\"\")\n",
        "for val in y_test_inverse:\n",
        "    print(f\"{val:.2f}\", end=\"\\t\")\n",
        "print()\n",
        "print(\"Predicted:\\t\", end=\"\")\n",
        "for val in y_pred_inverse:\n",
        "    print(f\"{val:.2f}\", end=\"\\t\")\n",
        "print(\n",
        "    \"\\n-----------------------------------------------------------------------------------------\"\n",
        ")\n",
        "print(\"Difference:\\t\", end=\"\")\n",
        "for val in y_test_inverse - y_pred_inverse:\n",
        "    print(f\"{val:.2f}\", end=\"\\t\")"
      ]
    },
    {
      "cell_type": "code",
      "execution_count": 45,
      "metadata": {
        "colab": {
          "base_uri": "https://localhost:8080/",
          "height": 407
        },
        "id": "aUHD14XzsWc0",
        "outputId": "c063bc9a-e65a-4994-9db0-81d9752a092d"
      },
      "outputs": [
        {
          "output_type": "display_data",
          "data": {
            "text/plain": [
              "<Figure size 700x400 with 1 Axes>"
            ],
            "image/png": "[encoded data removed]"
          },
          "metadata": {}
        }
      ],
      "source": [
        "# Adjusting the plot to better center the data for a cleaner look\n",
        "plt.figure(figsize=(7, 4))\n",
        "# Plot actual values\n",
        "plt.plot(y_test_inverse, label=\"Actual\", marker=\"s\", linestyle=\"-\", color=\"royalblue\", alpha=0.8)\n",
        "# Plot predicted values\n",
        "plt.plot(\n",
        "    y_pred_inverse, label=\"Predicted\", marker=\"o\", linestyle=\"-\", color=\"salmon\", alpha=0.8\n",
        ")\n",
        "# Title and labels\n",
        "plt.title(\"Actual vs Predicted Values\")\n",
        "plt.xlabel(\"Steps\")\n",
        "plt.ylabel(\"KW Load\")\n",
        "# Show legend\n",
        "plt.legend()\n",
        "# Adjusting the y-limits to center the data and avoid awkward spacing\n",
        "y_min = min(min(y_test_inverse), min(y_pred_inverse)) - 40000\n",
        "y_max = max(max(y_test_inverse), max(y_pred_inverse)) + 50000\n",
        "plt.ylim([y_min, y_max])\n",
        "# Display the plot with gridlines and tighter layout\n",
        "plt.grid(True)\n",
        "plt.tight_layout()\n",
        "plt.show()"
      ]
    },
    {
      "cell_type": "code",
      "execution_count": 46,
      "metadata": {
        "id": "AB_hjaynsWc0"
      },
      "outputs": [],
      "source": [
        "# Save the Model\n",
        "torch.save(model.state_dict(), \"final_lstm_model.pth\")"
      ]
    }
  ],
  "metadata": {
    "kernelspec": {
      "display_name": "Python 3",
      "name": "python3"
    },
    "language_info": {
      "codemirror_mode": {
        "name": "ipython",
        "version": 3
      },
      "file_extension": ".py",
      "mimetype": "text/x-python",
      "name": "python",
      "nbconvert_exporter": "python",
      "pygments_lexer": "ipython3",
      "version": "3.12.1"
    },
    "colab": {
      "provenance": [],
      "gpuType": "T4",
      "include_colab_link": true
    },
    "accelerator": "GPU"
  },
  "nbformat": 4,
  "nbformat_minor": 0
}